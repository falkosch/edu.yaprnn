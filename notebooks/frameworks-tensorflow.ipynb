{
 "cells": [
  {
   "metadata": {},
   "cell_type": "markdown",
   "source": [
    "# tensorflow: Training Neural Networks for Classification and Dimensionality Reduction\n",
    "\n",
    "This notebook demonstrates example neural network setups for **image classification** and **dimensionality reduction** tasks using `tensorflow`.\n",
    "\n",
    "The examples serve as complement and comparison for exploring neural networks with the `edu.yaprnn` app.\n",
    "\n",
    "### TensorFlow on Windows: Virtual Environment Setup\n",
    "\n",
    "To ensure TensorFlow compatibility on Windows, use the script `setup-venv-tensorflow-2.10.1.sh` to create a dedicated Python virtual environment with TensorFlow version `2.10.1`."
   ],
   "id": "b416c898b4c865ed"
  },
  {
   "metadata": {
    "ExecuteTime": {
     "end_time": "2025-01-07T00:22:59.715183Z",
     "start_time": "2025-01-07T00:22:53.755167Z"
    }
   },
   "cell_type": "code",
   "source": [
    "from sklearn.model_selection import train_test_split\n",
    "\n",
    "import mnist_utils\n",
    "import model_utils\n",
    "\n",
    "mnist_images, image_size, X, random_x_indices, random_feature_indices, y, labels = mnist_utils.from_mnist_images()\n",
    "\n",
    "digits_train_32k_test_12k = train_test_split(X, y, labels, train_size=0.6, test_size=0.2, random_state=model_utils.SEED)\n",
    "digits_images_from_labels = train_test_split(X, y, labels, train_size=0.8, test_size=0.2, random_state=model_utils.SEED)\n",
    "digits_input_reconstruction = train_test_split(X, y, labels, train_size=0.8, test_size=0.2,\n",
    "                                               random_state=model_utils.SEED)\n",
    "\n",
    "mnist_utils.from_dataset(digits_train_32k_test_12k, explain=True)\n",
    "mnist_utils.from_dataset(digits_images_from_labels, explain=True)\n",
    "mnist_utils.from_dataset(digits_input_reconstruction, explain=True)\n",
    "\n",
    "None"
   ],
   "id": "ddee58bbed8455ab",
   "outputs": [
    {
     "name": "stdout",
     "output_type": "stream",
     "text": [
      "Loading MNIST images from E:\\edu.yaprnn\\src\\main\\resources\\digits.idx3-ubyte\n"
     ]
    },
    {
     "data": {
      "text/plain": [
       "<Figure size 100x100 with 1 Axes>"
      ],
      "image/png": "[encoded data removed]"
     },
     "metadata": {},
     "output_type": "display_data"
    },
    {
     "data": {
      "text/plain": [
       "<Figure size 640x480 with 3 Axes>"
      ],
      "image/png": "[encoded data removed]"
     },
     "metadata": {},
     "output_type": "display_data"
    },
    {
     "data": {
      "text/plain": [
       "<Figure size 640x480 with 10 Axes>"
      ],
      "image/png": "[encoded data removed]"
     },
     "metadata": {},
     "output_type": "display_data"
    },
    {
     "name": "stdout",
     "output_type": "stream",
     "text": [
      "(36000, 784) (36000, 10) (36000,) (12000, 784) (12000, 10) (12000,)\n",
      "(48000, 784) (48000, 10) (48000,) (12000, 784) (12000, 10) (12000,)\n",
      "(48000, 784) (48000, 10) (48000,) (12000, 784) (12000, 10) (12000,)\n"
     ]
    }
   ],
   "execution_count": 1
  },
  {
   "metadata": {
    "ExecuteTime": {
     "end_time": "2025-01-07T00:23:12.570784Z",
     "start_time": "2025-01-07T00:23:01.535405Z"
    }
   },
   "cell_type": "code",
   "source": [
    "from tensorflow.keras import Sequential\n",
    "from tensorflow.keras.layers import Dense\n",
    "from tensorflow.keras.optimizers import SGD\n",
    "from tensorflow.keras.regularizers import L1L2\n",
    "import numpy as np\n",
    "import tensorflow as tf\n",
    "\n",
    "\n",
    "def ssim_metric(y_true, y_pred):\n",
    "    y_true_reshaped = tf.reshape(y_true, [-1, image_size[0], image_size[1], 1])\n",
    "    y_pred_reshaped = tf.reshape(y_pred, [-1, image_size[0], image_size[1], 1])\n",
    "    return tf.reduce_mean(tf.image.ssim(y_true_reshaped, y_pred_reshaped, max_val=1.0))\n",
    "\n",
    "\n",
    "tf.config.list_logical_devices()"
   ],
   "id": "38f49be67646c836",
   "outputs": [
    {
     "data": {
      "text/plain": [
       "[LogicalDevice(name='/device:CPU:0', device_type='CPU')]"
      ]
     },
     "execution_count": 2,
     "metadata": {},
     "output_type": "execute_result"
    }
   ],
   "execution_count": 2
  },
  {
   "metadata": {},
   "cell_type": "markdown",
   "source": [
    "# Digits Classification\n",
    "\n",
    "This model is configured as follows:\n",
    "\n",
    "- **Architecture**:\n",
    "  - Input layer: 784 neurons\n",
    "  - 2 hidden layers:\n",
    "    - Layer 1: 20 neurons\n",
    "    - Layer 2: 15 neurons\n",
    "  - Output layer: 10 neurons\n",
    "  - Total parameters: `((784 + 1) * 20) + ((20 + 1) * 15) + ((15 + 1) * 10) = 16175` (Biases included)\n",
    "- **Activation Function**: gelu\n",
    "- **Optimizer**: Stochastic Gradient Descent (SGD)\n",
    "  - Learning rate: 0.02\n",
    "  - Momentum: 0.2 with Nesterov term\n",
    "  - L1-weight-decay: 0.1 * 0.001 (bigger value breaks training)\n",
    "  - L2-weight-decay: 0.001\n",
    "- **Loss Function**: Mean Squared Error (MSE)"
   ],
   "id": "d281de62463487e3"
  },
  {
   "metadata": {},
   "cell_type": "code",
   "source": [
    "input_size, output_size, X_train, y_train, X_test, y_test = mnist_utils.from_dataset(digits_train_32k_test_12k)\n",
    "\n",
    "# val_accuracy: 0.6867\n",
    "classification_batch_optimizer = SGD(learning_rate=model_utils.BATCH_LEARNING_RATE, momentum=model_utils.MOMENTUM,\n",
    "                                     nesterov=model_utils.NESTEROV_MOMENTUM)\n",
    "# val_accuracy: 0.9355\n",
    "classification_optimizer = SGD(learning_rate=model_utils.LEARNING_RATE, momentum=model_utils.MOMENTUM,\n",
    "                               nesterov=model_utils.NESTEROV_MOMENTUM)\n",
    "\n",
    "# val_accuracy: 0.9355\n",
    "classification_regularizer = None\n",
    "classification_regularizer_bias = classification_regularizer\n",
    "# val_accuracy: 0.3916\n",
    "classification_regularizer = L1L2(l1=model_utils.L1_DECAY, l2=model_utils.L2_DECAY)\n",
    "classification_regularizer_bias = classification_regularizer\n",
    "# val_accuracy: 0.8902\n",
    "classification_regularizer = L1L2(l1=0.1 * model_utils.L1_DECAY, l2=model_utils.L2_DECAY)\n",
    "classification_regularizer_bias = classification_regularizer\n",
    "\n",
    "classification_loss = 'mse'\n",
    "\n",
    "classification_model = Sequential([\n",
    "    Dense(model_utils.CLASSIFICATION_FEATURES[0], activation='gelu', input_shape=(input_size,),\n",
    "          kernel_regularizer=classification_regularizer, bias_regularizer=classification_regularizer_bias),\n",
    "    Dense(model_utils.CLASSIFICATION_FEATURES[1], activation='gelu', kernel_regularizer=classification_regularizer,\n",
    "          bias_regularizer=classification_regularizer_bias),\n",
    "    Dense(output_size, activation='gelu', kernel_regularizer=classification_regularizer,\n",
    "          bias_regularizer=classification_regularizer_bias)\n",
    "])\n",
    "classification_model.compile(optimizer=classification_optimizer, loss=classification_loss, metrics=['accuracy'])\n",
    "classification_model.fit(X_train, y_train, validation_data=(X_test, y_test), epochs=model_utils.CLASSIFICATION_EPOCHS,\n",
    "                         batch_size=model_utils.BATCH_SIZE)\n",
    "\n",
    "classification_model_predict = lambda X: classification_model.predict(X)\n",
    "\n",
    "print(f'Actual number of parameters: {classification_model.count_params()}')"
   ],
   "id": "602db37c73ffde28",
   "outputs": [],
   "execution_count": null
  },
  {
   "metadata": {},
   "cell_type": "code",
   "source": [
    "_, _, X_train, y_train, X_test, y_test = mnist_utils.from_dataset(digits_train_32k_test_12k)\n",
    "\n",
    "print(f'Accuracy on training set: {model_utils.calculate_accuracy(classification_model_predict, X_train, y_train)}')\n",
    "print(f'Accuracy on test set: {model_utils.calculate_accuracy(classification_model_predict, X_test, y_test)}')\n",
    "\n",
    "random_test_indices = np.random.choice(X_test.shape[0], 5, replace=False)\n",
    "print(f'Random test indices: {random_test_indices}')\n",
    "\n",
    "mnist_utils.plot_images(X_test[random_test_indices], image_size=image_size, cmap='gray')\n",
    "print(f'Actual labels of random test indices: {np.argmax(y_test[random_test_indices], axis=1)}')\n",
    "\n",
    "predicted = classification_model_predict(X_test[random_test_indices])\n",
    "print(f'Predicted labels of random test indices: {np.argmax(predicted, axis=1)}')\n",
    "predicted.round(2).astype('str')"
   ],
   "id": "7c2ea7100031339c",
   "outputs": [],
   "execution_count": null
  },
  {
   "metadata": {},
   "cell_type": "markdown",
   "source": [
    "## Dimensionality Reduction with an Autoencoder\n",
    "\n",
    "This section demonstrates the use of two neural networks for dimensionality reduction. These networks rely on a bottleneck layer in their architecture to reduce the input data's dimensionality.\n",
    "\n",
    "Instead of using predefined methods to extract the most relevant features, the networks are trained using backpropagation. This approach enables the model to automatically learn a transformation into a compressed feature space along with its inverse transformation to reconstruct the input data as accurately as possible."
   ],
   "id": "14d02d0de03b9351"
  },
  {
   "metadata": {},
   "cell_type": "markdown",
   "source": [
    "### Shallow Autoencoder Network with 12 Neurons Bottleneck Layer\n",
    "\n",
    "This model is configured as follows:\n",
    "\n",
    "- **Architecture**:\n",
    "  - Input layer: 784 neurons\n",
    "  - 5 hidden layers:\n",
    "    - Layer 1: 196 neurons\n",
    "    - Layer 2: 49 neurons\n",
    "    - Layer 3: 12 neurons\n",
    "    - Layer 4: 49 neurons\n",
    "    - Layer 5: 196 neurons\n",
    "  - Output layer: 784 neurons\n",
    "  - Total parameters: 328998 (Biases included)\n",
    "- **Activation Function**: Gaussian Error Linear Unit (GeLU)\n",
    "- **Optimizer**: Stochastic Gradient Descent (SGD)\n",
    "  - Learning rate: 0.02\n",
    "  - Momentum: 0.2 with Nesterov term\n",
    "  - L1-weight-decay: 0.01 * 0.001 (bigger values break training)\n",
    "  - L2-weight-decay: 0.01 * 0.001\n",
    "- **Loss Function**: Mean Squared Error (MSE)"
   ],
   "id": "33f569bb0aac8140"
  },
  {
   "metadata": {
    "ExecuteTime": {
     "end_time": "2025-01-07T00:23:50.776697Z",
     "start_time": "2025-01-07T00:23:12.575489Z"
    }
   },
   "cell_type": "code",
   "source": [
    "input_size, _, X_train, _, X_test, _ = mnist_utils.from_dataset(digits_input_reconstruction)\n",
    "\n",
    "# val_ssim_metric: 0.0504\n",
    "autoencoder_optimizer = SGD(learning_rate=model_utils.BATCH_LEARNING_RATE, momentum=model_utils.MOMENTUM,\n",
    "                            nesterov=model_utils.NESTEROV_MOMENTUM)\n",
    "# val_ssim_metric: 0.4536\n",
    "autoencoder_optimizer = SGD(learning_rate=model_utils.LEARNING_RATE, momentum=model_utils.MOMENTUM,\n",
    "                            nesterov=model_utils.NESTEROV_MOMENTUM)\n",
    "\n",
    "# val_ssim_metric: 0.4536\n",
    "autoencoder_regularizer = None\n",
    "autoencoder_regularizer_bias = None\n",
    "# val_ssim_metric: 0.0980\n",
    "autoencoder_regularizer = L1L2(l1=model_utils.L1_DECAY, l2=model_utils.L2_DECAY)\n",
    "autoencoder_regularizer_bias = autoencoder_regularizer\n",
    "# val_ssim_metric: 0.4105\n",
    "autoencoder_regularizer = L1L2(l1=0.01 * model_utils.L1_DECAY, l2=0.01 * model_utils.L2_DECAY)\n",
    "autoencoder_regularizer_bias = autoencoder_regularizer\n",
    "\n",
    "autoencoder_loss = 'mse'\n",
    "\n",
    "autoencoder_model = Sequential([\n",
    "    Dense(model_utils.AUTOENCODER_FEATURES[0], activation='gelu', input_shape=(input_size,),\n",
    "          kernel_regularizer=autoencoder_regularizer, bias_regularizer=autoencoder_regularizer_bias),\n",
    "    Dense(model_utils.AUTOENCODER_FEATURES[1], activation='gelu', kernel_regularizer=autoencoder_regularizer,\n",
    "          bias_regularizer=autoencoder_regularizer_bias),\n",
    "    Dense(model_utils.AUTOENCODER_FEATURES[2], activation='gelu', kernel_regularizer=autoencoder_regularizer,\n",
    "          bias_regularizer=autoencoder_regularizer_bias),\n",
    "    Dense(model_utils.AUTOENCODER_FEATURES[3], activation='gelu', kernel_regularizer=autoencoder_regularizer,\n",
    "          bias_regularizer=autoencoder_regularizer_bias),\n",
    "    Dense(model_utils.AUTOENCODER_FEATURES[4], activation='gelu', kernel_regularizer=autoencoder_regularizer,\n",
    "          bias_regularizer=autoencoder_regularizer_bias),\n",
    "    Dense(input_size, activation='gelu', kernel_regularizer=autoencoder_regularizer,\n",
    "          bias_regularizer=autoencoder_regularizer_bias)\n",
    "])\n",
    "autoencoder_model.compile(optimizer=autoencoder_optimizer, loss=autoencoder_loss, metrics=[ssim_metric])\n",
    "autoencoder_model.fit(X_train, X_train, validation_data=(X_test, X_test), epochs=model_utils.AUTOENCODER_EPOCHS,\n",
    "                      batch_size=model_utils.BATCH_SIZE)\n",
    "\n",
    "autoencoder_model_predict = lambda X: autoencoder_model.predict(X)\n",
    "\n",
    "print(f'Actual number of parameters: {autoencoder_model.count_params()}')"
   ],
   "id": "54e122105e073306",
   "outputs": [
    {
     "name": "stdout",
     "output_type": "stream",
     "text": [
      "Epoch 1/1000\n",
      "1500/1500 [==============================] - 13s 8ms/step - loss: 0.2556 - ssim_metric: 0.0982 - val_loss: 0.2533 - val_ssim_metric: 0.0951\n",
      "Epoch 2/1000\n",
      "1500/1500 [==============================] - 14s 9ms/step - loss: 0.2519 - ssim_metric: 0.0892 - val_loss: 0.2495 - val_ssim_metric: 0.0830\n",
      "Epoch 3/1000\n",
      "1357/1500 [==========================>...] - ETA: 1s - loss: 0.2482 - ssim_metric: 0.0773"
     ]
    },
    {
     "ename": "KeyboardInterrupt",
     "evalue": "",
     "output_type": "error",
     "traceback": [
      "\u001B[1;31m---------------------------------------------------------------------------\u001B[0m",
      "\u001B[1;31mKeyboardInterrupt\u001B[0m                         Traceback (most recent call last)",
      "\u001B[1;32m~\\AppData\\Local\\Temp\\ipykernel_16476\\2060273533.py\u001B[0m in \u001B[0;36m?\u001B[1;34m()\u001B[0m\n\u001B[0;32m     33\u001B[0m     Dense(input_size, activation='gelu', kernel_regularizer=autoencoder_regularizer,\n\u001B[0;32m     34\u001B[0m           bias_regularizer=autoencoder_regularizer_bias)\n\u001B[0;32m     35\u001B[0m ])\n\u001B[0;32m     36\u001B[0m \u001B[0mautoencoder_model\u001B[0m\u001B[1;33m.\u001B[0m\u001B[0mcompile\u001B[0m\u001B[1;33m(\u001B[0m\u001B[0moptimizer\u001B[0m\u001B[1;33m=\u001B[0m\u001B[0mautoencoder_optimizer\u001B[0m\u001B[1;33m,\u001B[0m \u001B[0mloss\u001B[0m\u001B[1;33m=\u001B[0m\u001B[0mautoencoder_loss\u001B[0m\u001B[1;33m,\u001B[0m \u001B[0mmetrics\u001B[0m\u001B[1;33m=\u001B[0m\u001B[1;33m[\u001B[0m\u001B[0mssim_metric\u001B[0m\u001B[1;33m]\u001B[0m\u001B[1;33m)\u001B[0m\u001B[1;33m\u001B[0m\u001B[1;33m\u001B[0m\u001B[0m\n\u001B[1;32m---> 37\u001B[1;33m autoencoder_model.fit(X_train, X_train, validation_data=(X_test, X_test), epochs=10 * model_utils.AUTOENCODER_EPOCHS,\n\u001B[0m\u001B[0;32m     38\u001B[0m                       batch_size=model_utils.BATCH_SIZE)\n\u001B[0;32m     39\u001B[0m \u001B[1;33m\u001B[0m\u001B[0m\n\u001B[0;32m     40\u001B[0m \u001B[0mautoencoder_model_predict\u001B[0m \u001B[1;33m=\u001B[0m \u001B[1;32mlambda\u001B[0m \u001B[0mX\u001B[0m\u001B[1;33m:\u001B[0m \u001B[0mautoencoder_model\u001B[0m\u001B[1;33m.\u001B[0m\u001B[0mpredict\u001B[0m\u001B[1;33m(\u001B[0m\u001B[0mX\u001B[0m\u001B[1;33m)\u001B[0m\u001B[1;33m\u001B[0m\u001B[1;33m\u001B[0m\u001B[0m\n",
      "\u001B[1;32mE:\\edu.yaprnn\\notebooks\\.venv-tf\\lib\\site-packages\\keras\\utils\\traceback_utils.py\u001B[0m in \u001B[0;36m?\u001B[1;34m(*args, **kwargs)\u001B[0m\n\u001B[0;32m     68\u001B[0m             \u001B[1;31m# To get the full stack trace, call:\u001B[0m\u001B[1;33m\u001B[0m\u001B[1;33m\u001B[0m\u001B[0m\n\u001B[0;32m     69\u001B[0m             \u001B[1;31m# `tf.debugging.disable_traceback_filtering()`\u001B[0m\u001B[1;33m\u001B[0m\u001B[1;33m\u001B[0m\u001B[0m\n\u001B[0;32m     70\u001B[0m             \u001B[1;32mraise\u001B[0m \u001B[0me\u001B[0m\u001B[1;33m.\u001B[0m\u001B[0mwith_traceback\u001B[0m\u001B[1;33m(\u001B[0m\u001B[0mfiltered_tb\u001B[0m\u001B[1;33m)\u001B[0m \u001B[1;32mfrom\u001B[0m \u001B[1;32mNone\u001B[0m\u001B[1;33m\u001B[0m\u001B[1;33m\u001B[0m\u001B[0m\n\u001B[0;32m     71\u001B[0m         \u001B[1;32mfinally\u001B[0m\u001B[1;33m:\u001B[0m\u001B[1;33m\u001B[0m\u001B[1;33m\u001B[0m\u001B[0m\n\u001B[1;32m---> 72\u001B[1;33m             \u001B[1;32mdel\u001B[0m \u001B[0mfiltered_tb\u001B[0m\u001B[1;33m\u001B[0m\u001B[1;33m\u001B[0m\u001B[0m\n\u001B[0m",
      "\u001B[1;32mE:\\edu.yaprnn\\notebooks\\.venv-tf\\lib\\site-packages\\keras\\engine\\training.py\u001B[0m in \u001B[0;36m?\u001B[1;34m(self, x, y, batch_size, epochs, verbose, callbacks, validation_split, validation_data, shuffle, class_weight, sample_weight, initial_epoch, steps_per_epoch, validation_steps, validation_batch_size, validation_freq, max_queue_size, workers, use_multiprocessing)\u001B[0m\n\u001B[0;32m   1551\u001B[0m                 \u001B[1;32mwith\u001B[0m \u001B[0mdata_handler\u001B[0m\u001B[1;33m.\u001B[0m\u001B[0mcatch_stop_iteration\u001B[0m\u001B[1;33m(\u001B[0m\u001B[1;33m)\u001B[0m\u001B[1;33m:\u001B[0m\u001B[1;33m\u001B[0m\u001B[1;33m\u001B[0m\u001B[0m\n\u001B[0;32m   1552\u001B[0m                     data_handler._initial_step = data_handler._initial_step or (\n\u001B[0;32m   1553\u001B[0m                         \u001B[0mself\u001B[0m\u001B[1;33m.\u001B[0m\u001B[0m_maybe_load_initial_step_from_ckpt\u001B[0m\u001B[1;33m(\u001B[0m\u001B[1;33m)\u001B[0m\u001B[1;33m\u001B[0m\u001B[1;33m\u001B[0m\u001B[0m\n\u001B[0;32m   1554\u001B[0m                     )\n\u001B[1;32m-> 1555\u001B[1;33m                     \u001B[1;32mfor\u001B[0m \u001B[0mstep\u001B[0m \u001B[1;32min\u001B[0m \u001B[0mdata_handler\u001B[0m\u001B[1;33m.\u001B[0m\u001B[0msteps\u001B[0m\u001B[1;33m(\u001B[0m\u001B[1;33m)\u001B[0m\u001B[1;33m:\u001B[0m\u001B[1;33m\u001B[0m\u001B[1;33m\u001B[0m\u001B[0m\n\u001B[0m\u001B[0;32m   1556\u001B[0m                         with tf.profiler.experimental.Trace(\n\u001B[0;32m   1557\u001B[0m                             \u001B[1;34m\"train\"\u001B[0m\u001B[1;33m,\u001B[0m\u001B[1;33m\u001B[0m\u001B[1;33m\u001B[0m\u001B[0m\n\u001B[0;32m   1558\u001B[0m                             \u001B[0mepoch_num\u001B[0m\u001B[1;33m=\u001B[0m\u001B[0mepoch\u001B[0m\u001B[1;33m,\u001B[0m\u001B[1;33m\u001B[0m\u001B[1;33m\u001B[0m\u001B[0m\n",
      "\u001B[1;32mE:\\edu.yaprnn\\notebooks\\.venv-tf\\lib\\site-packages\\keras\\engine\\data_adapter.py\u001B[0m in \u001B[0;36m?\u001B[1;34m(self)\u001B[0m\n\u001B[0;32m   1370\u001B[0m             \u001B[1;32mor\u001B[0m \u001B[0mself\u001B[0m\u001B[1;33m.\u001B[0m\u001B[0m_current_step\u001B[0m \u001B[1;33m<\u001B[0m \u001B[0mself\u001B[0m\u001B[1;33m.\u001B[0m\u001B[0m_inferred_steps\u001B[0m\u001B[1;33m\u001B[0m\u001B[1;33m\u001B[0m\u001B[0m\n\u001B[0;32m   1371\u001B[0m         ):\n\u001B[0;32m   1372\u001B[0m             \u001B[1;32mif\u001B[0m \u001B[0mself\u001B[0m\u001B[1;33m.\u001B[0m\u001B[0m_insufficient_data\u001B[0m\u001B[1;33m:\u001B[0m  \u001B[1;31m# Set by `catch_stop_iteration`.\u001B[0m\u001B[1;33m\u001B[0m\u001B[1;33m\u001B[0m\u001B[0m\n\u001B[0;32m   1373\u001B[0m                 \u001B[1;32mbreak\u001B[0m\u001B[1;33m\u001B[0m\u001B[1;33m\u001B[0m\u001B[0m\n\u001B[1;32m-> 1374\u001B[1;33m             \u001B[0moriginal_spe\u001B[0m \u001B[1;33m=\u001B[0m \u001B[0mself\u001B[0m\u001B[1;33m.\u001B[0m\u001B[0m_steps_per_execution\u001B[0m\u001B[1;33m.\u001B[0m\u001B[0mnumpy\u001B[0m\u001B[1;33m(\u001B[0m\u001B[1;33m)\u001B[0m\u001B[1;33m.\u001B[0m\u001B[0mitem\u001B[0m\u001B[1;33m(\u001B[0m\u001B[1;33m)\u001B[0m\u001B[1;33m\u001B[0m\u001B[1;33m\u001B[0m\u001B[0m\n\u001B[0m\u001B[0;32m   1375\u001B[0m             can_run_full_execution = (\n\u001B[0;32m   1376\u001B[0m                 \u001B[0moriginal_spe\u001B[0m \u001B[1;33m==\u001B[0m \u001B[1;36m1\u001B[0m\u001B[1;33m\u001B[0m\u001B[1;33m\u001B[0m\u001B[0m\n\u001B[0;32m   1377\u001B[0m                 \u001B[1;32mor\u001B[0m \u001B[0mself\u001B[0m\u001B[1;33m.\u001B[0m\u001B[0m_inferred_steps\u001B[0m \u001B[1;32mis\u001B[0m \u001B[1;32mNone\u001B[0m\u001B[1;33m\u001B[0m\u001B[1;33m\u001B[0m\u001B[0m\n",
      "\u001B[1;32mE:\\edu.yaprnn\\notebooks\\.venv-tf\\lib\\site-packages\\tensorflow\\python\\ops\\resource_variable_ops.py\u001B[0m in \u001B[0;36m?\u001B[1;34m(self)\u001B[0m\n\u001B[0;32m    635\u001B[0m   \u001B[1;32mdef\u001B[0m \u001B[0mnumpy\u001B[0m\u001B[1;33m(\u001B[0m\u001B[0mself\u001B[0m\u001B[1;33m)\u001B[0m\u001B[1;33m:\u001B[0m\u001B[1;33m\u001B[0m\u001B[1;33m\u001B[0m\u001B[0m\n\u001B[0;32m    636\u001B[0m     \u001B[1;32mif\u001B[0m \u001B[0mcontext\u001B[0m\u001B[1;33m.\u001B[0m\u001B[0mexecuting_eagerly\u001B[0m\u001B[1;33m(\u001B[0m\u001B[1;33m)\u001B[0m\u001B[1;33m:\u001B[0m\u001B[1;33m\u001B[0m\u001B[1;33m\u001B[0m\u001B[0m\n\u001B[1;32m--> 637\u001B[1;33m       \u001B[1;32mreturn\u001B[0m \u001B[0mself\u001B[0m\u001B[1;33m.\u001B[0m\u001B[0mread_value\u001B[0m\u001B[1;33m(\u001B[0m\u001B[1;33m)\u001B[0m\u001B[1;33m.\u001B[0m\u001B[0mnumpy\u001B[0m\u001B[1;33m(\u001B[0m\u001B[1;33m)\u001B[0m\u001B[1;33m\u001B[0m\u001B[1;33m\u001B[0m\u001B[0m\n\u001B[0m\u001B[0;32m    638\u001B[0m     raise NotImplementedError(\n\u001B[0;32m    639\u001B[0m         \"numpy() is only available when eager execution is enabled.\")\n",
      "\u001B[1;32mE:\\edu.yaprnn\\notebooks\\.venv-tf\\lib\\site-packages\\tensorflow\\python\\ops\\resource_variable_ops.py\u001B[0m in \u001B[0;36m?\u001B[1;34m(self)\u001B[0m\n\u001B[0;32m    724\u001B[0m     \u001B[1;32mwith\u001B[0m \u001B[0mops\u001B[0m\u001B[1;33m.\u001B[0m\u001B[0mname_scope\u001B[0m\u001B[1;33m(\u001B[0m\u001B[1;34m\"Read\"\u001B[0m\u001B[1;33m)\u001B[0m\u001B[1;33m:\u001B[0m\u001B[1;33m\u001B[0m\u001B[1;33m\u001B[0m\u001B[0m\n\u001B[0;32m    725\u001B[0m       \u001B[0mvalue\u001B[0m \u001B[1;33m=\u001B[0m \u001B[0mself\u001B[0m\u001B[1;33m.\u001B[0m\u001B[0m_read_variable_op\u001B[0m\u001B[1;33m(\u001B[0m\u001B[1;33m)\u001B[0m\u001B[1;33m\u001B[0m\u001B[1;33m\u001B[0m\u001B[0m\n\u001B[0;32m    726\u001B[0m     \u001B[1;31m# Return an identity so it can get placed on whatever device the context\u001B[0m\u001B[1;33m\u001B[0m\u001B[1;33m\u001B[0m\u001B[0m\n\u001B[0;32m    727\u001B[0m     \u001B[1;31m# specifies instead of the device where the variable is.\u001B[0m\u001B[1;33m\u001B[0m\u001B[1;33m\u001B[0m\u001B[0m\n\u001B[1;32m--> 728\u001B[1;33m     \u001B[1;32mreturn\u001B[0m \u001B[0marray_ops\u001B[0m\u001B[1;33m.\u001B[0m\u001B[0midentity\u001B[0m\u001B[1;33m(\u001B[0m\u001B[0mvalue\u001B[0m\u001B[1;33m)\u001B[0m\u001B[1;33m\u001B[0m\u001B[1;33m\u001B[0m\u001B[0m\n\u001B[0m",
      "\u001B[1;32mE:\\edu.yaprnn\\notebooks\\.venv-tf\\lib\\site-packages\\tensorflow\\python\\util\\traceback_utils.py\u001B[0m in \u001B[0;36m?\u001B[1;34m(*args, **kwargs)\u001B[0m\n\u001B[0;32m    151\u001B[0m     \u001B[1;32mexcept\u001B[0m \u001B[0mException\u001B[0m \u001B[1;32mas\u001B[0m \u001B[0me\u001B[0m\u001B[1;33m:\u001B[0m\u001B[1;33m\u001B[0m\u001B[1;33m\u001B[0m\u001B[0m\n\u001B[0;32m    152\u001B[0m       \u001B[0mfiltered_tb\u001B[0m \u001B[1;33m=\u001B[0m \u001B[0m_process_traceback_frames\u001B[0m\u001B[1;33m(\u001B[0m\u001B[0me\u001B[0m\u001B[1;33m.\u001B[0m\u001B[0m__traceback__\u001B[0m\u001B[1;33m)\u001B[0m\u001B[1;33m\u001B[0m\u001B[1;33m\u001B[0m\u001B[0m\n\u001B[0;32m    153\u001B[0m       \u001B[1;32mraise\u001B[0m \u001B[0me\u001B[0m\u001B[1;33m.\u001B[0m\u001B[0mwith_traceback\u001B[0m\u001B[1;33m(\u001B[0m\u001B[0mfiltered_tb\u001B[0m\u001B[1;33m)\u001B[0m \u001B[1;32mfrom\u001B[0m \u001B[1;32mNone\u001B[0m\u001B[1;33m\u001B[0m\u001B[1;33m\u001B[0m\u001B[0m\n\u001B[0;32m    154\u001B[0m     \u001B[1;32mfinally\u001B[0m\u001B[1;33m:\u001B[0m\u001B[1;33m\u001B[0m\u001B[1;33m\u001B[0m\u001B[0m\n\u001B[1;32m--> 155\u001B[1;33m       \u001B[1;32mdel\u001B[0m \u001B[0mfiltered_tb\u001B[0m\u001B[1;33m\u001B[0m\u001B[1;33m\u001B[0m\u001B[0m\n\u001B[0m",
      "\u001B[1;32mE:\\edu.yaprnn\\notebooks\\.venv-tf\\lib\\site-packages\\tensorflow\\python\\util\\dispatch.py\u001B[0m in \u001B[0;36m?\u001B[1;34m(*args, **kwargs)\u001B[0m\n\u001B[0;32m   1173\u001B[0m \u001B[1;33m\u001B[0m\u001B[0m\n\u001B[0;32m   1174\u001B[0m       \u001B[1;31m# Fallback dispatch system (dispatch v1):\u001B[0m\u001B[1;33m\u001B[0m\u001B[1;33m\u001B[0m\u001B[0m\n\u001B[0;32m   1175\u001B[0m       \u001B[1;32mtry\u001B[0m\u001B[1;33m:\u001B[0m\u001B[1;33m\u001B[0m\u001B[1;33m\u001B[0m\u001B[0m\n\u001B[0;32m   1176\u001B[0m         \u001B[1;32mreturn\u001B[0m \u001B[0mdispatch_target\u001B[0m\u001B[1;33m(\u001B[0m\u001B[1;33m*\u001B[0m\u001B[0margs\u001B[0m\u001B[1;33m,\u001B[0m \u001B[1;33m**\u001B[0m\u001B[0mkwargs\u001B[0m\u001B[1;33m)\u001B[0m\u001B[1;33m\u001B[0m\u001B[1;33m\u001B[0m\u001B[0m\n\u001B[1;32m-> 1177\u001B[1;33m       \u001B[1;32mexcept\u001B[0m \u001B[1;33m(\u001B[0m\u001B[0mTypeError\u001B[0m\u001B[1;33m,\u001B[0m \u001B[0mValueError\u001B[0m\u001B[1;33m)\u001B[0m\u001B[1;33m:\u001B[0m\u001B[1;33m\u001B[0m\u001B[1;33m\u001B[0m\u001B[0m\n\u001B[0m\u001B[0;32m   1178\u001B[0m         \u001B[1;31m# Note: convert_to_eager_tensor currently raises a ValueError, not a\u001B[0m\u001B[1;33m\u001B[0m\u001B[1;33m\u001B[0m\u001B[0m\n\u001B[0;32m   1179\u001B[0m         \u001B[1;31m# TypeError, when given unexpected types.  So we need to catch both.\u001B[0m\u001B[1;33m\u001B[0m\u001B[1;33m\u001B[0m\u001B[0m\n\u001B[0;32m   1180\u001B[0m         \u001B[0mresult\u001B[0m \u001B[1;33m=\u001B[0m \u001B[0mdispatch\u001B[0m\u001B[1;33m(\u001B[0m\u001B[0mop_dispatch_handler\u001B[0m\u001B[1;33m,\u001B[0m \u001B[0margs\u001B[0m\u001B[1;33m,\u001B[0m \u001B[0mkwargs\u001B[0m\u001B[1;33m)\u001B[0m\u001B[1;33m\u001B[0m\u001B[1;33m\u001B[0m\u001B[0m\n",
      "\u001B[1;32mE:\\edu.yaprnn\\notebooks\\.venv-tf\\lib\\site-packages\\tensorflow\\python\\ops\\array_ops.py\u001B[0m in \u001B[0;36m?\u001B[1;34m(input, name)\u001B[0m\n\u001B[0;32m    290\u001B[0m   \u001B[1;32mif\u001B[0m \u001B[0mcontext\u001B[0m\u001B[1;33m.\u001B[0m\u001B[0mexecuting_eagerly\u001B[0m\u001B[1;33m(\u001B[0m\u001B[1;33m)\u001B[0m \u001B[1;32mand\u001B[0m \u001B[1;32mnot\u001B[0m \u001B[0mhasattr\u001B[0m\u001B[1;33m(\u001B[0m\u001B[0minput\u001B[0m\u001B[1;33m,\u001B[0m \u001B[1;34m\"graph\"\u001B[0m\u001B[1;33m)\u001B[0m\u001B[1;33m:\u001B[0m\u001B[1;33m\u001B[0m\u001B[1;33m\u001B[0m\u001B[0m\n\u001B[0;32m    291\u001B[0m     \u001B[1;31m# Make sure we get an input with handle data attached from resource\u001B[0m\u001B[1;33m\u001B[0m\u001B[1;33m\u001B[0m\u001B[0m\n\u001B[0;32m    292\u001B[0m     \u001B[1;31m# variables. Variables have correct handle data when graph building.\u001B[0m\u001B[1;33m\u001B[0m\u001B[1;33m\u001B[0m\u001B[0m\n\u001B[0;32m    293\u001B[0m     \u001B[0minput\u001B[0m \u001B[1;33m=\u001B[0m \u001B[0mops\u001B[0m\u001B[1;33m.\u001B[0m\u001B[0mconvert_to_tensor\u001B[0m\u001B[1;33m(\u001B[0m\u001B[0minput\u001B[0m\u001B[1;33m)\u001B[0m\u001B[1;33m\u001B[0m\u001B[1;33m\u001B[0m\u001B[0m\n\u001B[1;32m--> 294\u001B[1;33m   \u001B[0mret\u001B[0m \u001B[1;33m=\u001B[0m \u001B[0mgen_array_ops\u001B[0m\u001B[1;33m.\u001B[0m\u001B[0midentity\u001B[0m\u001B[1;33m(\u001B[0m\u001B[0minput\u001B[0m\u001B[1;33m,\u001B[0m \u001B[0mname\u001B[0m\u001B[1;33m=\u001B[0m\u001B[0mname\u001B[0m\u001B[1;33m)\u001B[0m\u001B[1;33m\u001B[0m\u001B[1;33m\u001B[0m\u001B[0m\n\u001B[0m\u001B[0;32m    295\u001B[0m   \u001B[1;31m# Propagate handle data for happier shape inference for resource variables.\u001B[0m\u001B[1;33m\u001B[0m\u001B[1;33m\u001B[0m\u001B[0m\n\u001B[0;32m    296\u001B[0m   \u001B[1;32mif\u001B[0m \u001B[0mhasattr\u001B[0m\u001B[1;33m(\u001B[0m\u001B[0minput\u001B[0m\u001B[1;33m,\u001B[0m \u001B[1;34m\"_handle_data\"\u001B[0m\u001B[1;33m)\u001B[0m\u001B[1;33m:\u001B[0m\u001B[1;33m\u001B[0m\u001B[1;33m\u001B[0m\u001B[0m\n\u001B[0;32m    297\u001B[0m     \u001B[0mret\u001B[0m\u001B[1;33m.\u001B[0m\u001B[0m_handle_data\u001B[0m \u001B[1;33m=\u001B[0m \u001B[0minput\u001B[0m\u001B[1;33m.\u001B[0m\u001B[0m_handle_data\u001B[0m  \u001B[1;31m# pylint: disable=protected-access\u001B[0m\u001B[1;33m\u001B[0m\u001B[1;33m\u001B[0m\u001B[0m\n",
      "\u001B[1;32mE:\\edu.yaprnn\\notebooks\\.venv-tf\\lib\\site-packages\\tensorflow\\python\\ops\\gen_array_ops.py\u001B[0m in \u001B[0;36m?\u001B[1;34m(input, name)\u001B[0m\n\u001B[0;32m   4069\u001B[0m         _ctx, \"Identity\", name, input)\n\u001B[0;32m   4070\u001B[0m       \u001B[1;32mreturn\u001B[0m \u001B[0m_result\u001B[0m\u001B[1;33m\u001B[0m\u001B[1;33m\u001B[0m\u001B[0m\n\u001B[0;32m   4071\u001B[0m     \u001B[1;32mexcept\u001B[0m \u001B[0m_core\u001B[0m\u001B[1;33m.\u001B[0m\u001B[0m_NotOkStatusException\u001B[0m \u001B[1;32mas\u001B[0m \u001B[0me\u001B[0m\u001B[1;33m:\u001B[0m\u001B[1;33m\u001B[0m\u001B[1;33m\u001B[0m\u001B[0m\n\u001B[0;32m   4072\u001B[0m       \u001B[0m_ops\u001B[0m\u001B[1;33m.\u001B[0m\u001B[0mraise_from_not_ok_status\u001B[0m\u001B[1;33m(\u001B[0m\u001B[0me\u001B[0m\u001B[1;33m,\u001B[0m \u001B[0mname\u001B[0m\u001B[1;33m)\u001B[0m\u001B[1;33m\u001B[0m\u001B[1;33m\u001B[0m\u001B[0m\n\u001B[1;32m-> 4073\u001B[1;33m     \u001B[1;32mexcept\u001B[0m \u001B[0m_core\u001B[0m\u001B[1;33m.\u001B[0m\u001B[0m_FallbackException\u001B[0m\u001B[1;33m:\u001B[0m\u001B[1;33m\u001B[0m\u001B[1;33m\u001B[0m\u001B[0m\n\u001B[0m\u001B[0;32m   4074\u001B[0m       \u001B[1;32mpass\u001B[0m\u001B[1;33m\u001B[0m\u001B[1;33m\u001B[0m\u001B[0m\n\u001B[0;32m   4075\u001B[0m     \u001B[1;32mtry\u001B[0m\u001B[1;33m:\u001B[0m\u001B[1;33m\u001B[0m\u001B[1;33m\u001B[0m\u001B[0m\n\u001B[0;32m   4076\u001B[0m       return identity_eager_fallback(\n",
      "\u001B[1;31mKeyboardInterrupt\u001B[0m: "
     ]
    }
   ],
   "execution_count": 3
  },
  {
   "metadata": {},
   "cell_type": "code",
   "source": [
    "_, _, X_train, _, X_test, _ = mnist_utils.from_dataset(digits_input_reconstruction)\n",
    "\n",
    "print(f'Loss X_train: {model_utils.mse_loss(autoencoder_model_predict, X_train, X_train)}')\n",
    "print(f'Loss X_test: {model_utils.mse_loss(autoencoder_model_predict, X_test, X_test)}')\n",
    "\n",
    "random_test_indices = np.random.choice(X_test.shape[0], 5, replace=False)\n",
    "print(f'Random test indices: {random_test_indices}')\n",
    "\n",
    "original = X_test[random_test_indices]\n",
    "mnist_utils.plot_images(original, image_size=image_size, cmap='gray')\n",
    "\n",
    "restored = autoencoder_model_predict(original)\n",
    "mnist_utils.plot_images(restored, image_size=image_size, cmap='gray')"
   ],
   "id": "9d91c2218ebfb2e9",
   "outputs": [],
   "execution_count": null
  }
 ],
 "metadata": {
  "kernelspec": {
   "name": "python3",
   "language": "python",
   "display_name": "Python 3 (ipykernel)"
  }
 },
 "nbformat": 4,
 "nbformat_minor": 5
}
