{
 "cells": [
  {
   "metadata": {},
   "cell_type": "markdown",
   "source": [
    "# tensorflow: Training Neural Networks for Classification and Dimensionality Reduction\n",
    "\n",
    "This notebook demonstrates example neural network setups for **image classification** and **dimensionality reduction** tasks using `tensorflow`.\n",
    "\n",
    "The examples serve as complement and comparison for exploring neural networks with the `edu.yaprnn` app.\n",
    "\n",
    "### TensorFlow on Windows: Virtual Environment Setup\n",
    "\n",
    "To ensure TensorFlow compatibility on Windows, use the script `setup-venv-tensorflow-2.10.1.sh` to create a dedicated Python virtual environment with TensorFlow version `2.10.1`."
   ],
   "id": "b416c898b4c865ed"
  },
  {
   "metadata": {
    "ExecuteTime": {
     "end_time": "2024-12-27T04:46:15.405054Z",
     "start_time": "2024-12-27T04:46:13.053206Z"
    }
   },
   "cell_type": "code",
   "source": [
    "import tensorflow as tf\n",
    "from sklearn.model_selection import train_test_split\n",
    "\n",
    "import mnist_utils\n",
    "\n",
    "mnist_images, image_size, X, random_x_indices, random_feature_indices, y, labels = mnist_utils.from_mnist_images()\n",
    "\n",
    "digits_train_32k_test_12k = train_test_split(X, y, labels, train_size=0.6, test_size=0.2, random_state=42)\n",
    "digits_images_from_labels = train_test_split(X, y, labels, train_size=0.8, test_size=0.2, random_state=42)\n",
    "digits_input_reconstruction = train_test_split(X, y, labels, train_size=0.8, test_size=0.2, random_state=42)\n",
    "\n",
    "mnist_utils.from_dataset(digits_train_32k_test_12k, explain=True)\n",
    "mnist_utils.from_dataset(digits_images_from_labels, explain=True)\n",
    "mnist_utils.from_dataset(digits_input_reconstruction, explain=True)\n",
    "\n",
    "None"
   ],
   "id": "278cd590e05d58d9",
   "outputs": [
    {
     "name": "stdout",
     "output_type": "stream",
     "text": [
      "Loading MNIST images from E:\\edu.yaprnn\\src\\main\\resources\\digits.idx3-ubyte\n"
     ]
    },
    {
     "data": {
      "text/plain": [
       "<Figure size 100x100 with 1 Axes>"
      ],
      "image/png": "[encoded data removed]"
     },
     "metadata": {},
     "output_type": "display_data"
    },
    {
     "data": {
      "text/plain": [
       "<Figure size 640x480 with 3 Axes>"
      ],
      "image/png": "[encoded data removed]"
     },
     "metadata": {},
     "output_type": "display_data"
    },
    {
     "data": {
      "text/plain": [
       "<Figure size 640x480 with 10 Axes>"
      ],
      "image/png": "[encoded data removed]"
     },
     "metadata": {},
     "output_type": "display_data"
    },
    {
     "name": "stdout",
     "output_type": "stream",
     "text": [
      "(36000, 784) (36000, 10) (36000,) (12000, 784) (12000, 10) (12000,)\n",
      "(48000, 784) (48000, 10) (48000,) (12000, 784) (12000, 10) (12000,)\n",
      "(48000, 784) (48000, 10) (48000,) (12000, 784) (12000, 10) (12000,)\n"
     ]
    }
   ],
   "execution_count": 1
  },
  {
   "metadata": {},
   "cell_type": "markdown",
   "source": [
    "# Digits Classification\n",
    "\n",
    "This model is configured as follows:\n",
    "\n",
    "- **Architecture**:\n",
    "  - Input layer: 784 neurons\n",
    "  - 2 hidden layers:\n",
    "    - Layer 1: 20 neurons\n",
    "    - Layer 2: 15 neurons\n",
    "  - Output layer: 10 neurons\n",
    "  - Total parameters: `((784 + 1) * 20) + ((20 + 1) * 15) + ((15 + 1) * 10) = 16175` (Biases included)\n",
    "- **Activation Function**: Gaussian Error Linear Unit (GeLU)\n",
    "- **Optimizer**: Stochastic Gradient Descent (SGD)\n",
    "  - Learning rate: 0.02 (needs adaption to batch size to not overshoot gradient updates)\n",
    "  - Momentum: 0.2 with Nesterov term\n",
    "  - L1-weight-decay: 0.0001\n",
    "  - L2-weight-decay: 0.001\n",
    "- **Loss Function**: Mean Squared Error (MSE)"
   ],
   "id": "173ffcf7f55a5a1"
  },
  {
   "metadata": {
    "ExecuteTime": {
     "end_time": "2024-12-27T04:46:54.507011Z",
     "start_time": "2024-12-27T04:46:15.413116Z"
    }
   },
   "cell_type": "code",
   "source": [
    "from tensorflow.keras.layers import Dense\n",
    "from tensorflow.keras.optimizers import SGD\n",
    "from tensorflow.keras.regularizers import L1L2\n",
    "\n",
    "input_size, output_size, X_train, y_train, X_test, y_test = mnist_utils.from_dataset(digits_train_32k_test_12k)\n",
    "\n",
    "batch_size = 31\n",
    "optimizer = SGD(learning_rate=0.02 / batch_size, momentum=0.2, nesterov=True)\n",
    "loss = 'mse'\n",
    "regularizer=L1L2(l1=0.0001, l2=0.001)\n",
    "\n",
    "model = tf.keras.Sequential()\n",
    "model.add(Dense(20, activation='gelu', input_shape=(input_size,), kernel_regularizer=regularizer))\n",
    "model.add(Dense(15, activation='gelu', kernel_regularizer=regularizer))\n",
    "model.add(Dense(output_size, activation='gelu', kernel_regularizer=regularizer))\n",
    "model.compile(optimizer=optimizer, loss=loss, metrics=['accuracy'])\n",
    "model.fit(X_train, y_train, validation_data=(X_test, y_test), epochs=50, batch_size=batch_size)\n",
    "\n",
    "print(f'Actual number of parameters: {model.count_params()}')"
   ],
   "id": "6b7426abc86ece2a",
   "outputs": [
    {
     "name": "stdout",
     "output_type": "stream",
     "text": [
      "Epoch 1/50\n",
      "1162/1162 [==============================] - 1s 776us/step - loss: 0.2534 - accuracy: 0.1013 - val_loss: 0.2488 - val_accuracy: 0.1141\n",
      "Epoch 2/50\n",
      "1162/1162 [==============================] - 1s 647us/step - loss: 0.2459 - accuracy: 0.1261 - val_loss: 0.2436 - val_accuracy: 0.1352\n",
      "Epoch 3/50\n",
      "1162/1162 [==============================] - 1s 658us/step - loss: 0.2417 - accuracy: 0.1482 - val_loss: 0.2401 - val_accuracy: 0.1570\n",
      "Epoch 4/50\n",
      "1162/1162 [==============================] - 1s 651us/step - loss: 0.2386 - accuracy: 0.1713 - val_loss: 0.2372 - val_accuracy: 0.1792\n",
      "Epoch 5/50\n",
      "1162/1162 [==============================] - 1s 647us/step - loss: 0.2358 - accuracy: 0.1961 - val_loss: 0.2346 - val_accuracy: 0.2033\n",
      "Epoch 6/50\n",
      "1162/1162 [==============================] - 1s 656us/step - loss: 0.2333 - accuracy: 0.2216 - val_loss: 0.2322 - val_accuracy: 0.2287\n",
      "Epoch 7/50\n",
      "1162/1162 [==============================] - 1s 675us/step - loss: 0.2309 - accuracy: 0.2481 - val_loss: 0.2299 - val_accuracy: 0.2533\n",
      "Epoch 8/50\n",
      "1162/1162 [==============================] - 1s 659us/step - loss: 0.2287 - accuracy: 0.2712 - val_loss: 0.2278 - val_accuracy: 0.2767\n",
      "Epoch 9/50\n",
      "1162/1162 [==============================] - 1s 641us/step - loss: 0.2266 - accuracy: 0.2930 - val_loss: 0.2257 - val_accuracy: 0.2985\n",
      "Epoch 10/50\n",
      "1162/1162 [==============================] - 1s 639us/step - loss: 0.2246 - accuracy: 0.3110 - val_loss: 0.2238 - val_accuracy: 0.3176\n",
      "Epoch 11/50\n",
      "1162/1162 [==============================] - 1s 650us/step - loss: 0.2228 - accuracy: 0.3301 - val_loss: 0.2220 - val_accuracy: 0.3372\n",
      "Epoch 12/50\n",
      "1162/1162 [==============================] - 1s 657us/step - loss: 0.2210 - accuracy: 0.3481 - val_loss: 0.2203 - val_accuracy: 0.3537\n",
      "Epoch 13/50\n",
      "1162/1162 [==============================] - 1s 644us/step - loss: 0.2193 - accuracy: 0.3658 - val_loss: 0.2186 - val_accuracy: 0.3726\n",
      "Epoch 14/50\n",
      "1162/1162 [==============================] - 1s 679us/step - loss: 0.2176 - accuracy: 0.3822 - val_loss: 0.2169 - val_accuracy: 0.3900\n",
      "Epoch 15/50\n",
      "1162/1162 [==============================] - 1s 643us/step - loss: 0.2160 - accuracy: 0.3987 - val_loss: 0.2154 - val_accuracy: 0.4076\n",
      "Epoch 16/50\n",
      "1162/1162 [==============================] - 1s 658us/step - loss: 0.2145 - accuracy: 0.4145 - val_loss: 0.2138 - val_accuracy: 0.4247\n",
      "Epoch 17/50\n",
      "1162/1162 [==============================] - 1s 651us/step - loss: 0.2129 - accuracy: 0.4301 - val_loss: 0.2123 - val_accuracy: 0.4393\n",
      "Epoch 18/50\n",
      "1162/1162 [==============================] - 1s 648us/step - loss: 0.2114 - accuracy: 0.4466 - val_loss: 0.2108 - val_accuracy: 0.4539\n",
      "Epoch 19/50\n",
      "1162/1162 [==============================] - 1s 655us/step - loss: 0.2100 - accuracy: 0.4603 - val_loss: 0.2093 - val_accuracy: 0.4694\n",
      "Epoch 20/50\n",
      "1162/1162 [==============================] - 1s 642us/step - loss: 0.2085 - accuracy: 0.4745 - val_loss: 0.2079 - val_accuracy: 0.4836\n",
      "Epoch 21/50\n",
      "1162/1162 [==============================] - 1s 653us/step - loss: 0.2071 - accuracy: 0.4874 - val_loss: 0.2064 - val_accuracy: 0.4963\n",
      "Epoch 22/50\n",
      "1162/1162 [==============================] - 1s 645us/step - loss: 0.2056 - accuracy: 0.4997 - val_loss: 0.2050 - val_accuracy: 0.5093\n",
      "Epoch 23/50\n",
      "1162/1162 [==============================] - 1s 649us/step - loss: 0.2042 - accuracy: 0.5117 - val_loss: 0.2036 - val_accuracy: 0.5214\n",
      "Epoch 24/50\n",
      "1162/1162 [==============================] - 1s 642us/step - loss: 0.2028 - accuracy: 0.5233 - val_loss: 0.2022 - val_accuracy: 0.5322\n",
      "Epoch 25/50\n",
      "1162/1162 [==============================] - 1s 645us/step - loss: 0.2015 - accuracy: 0.5340 - val_loss: 0.2008 - val_accuracy: 0.5406\n",
      "Epoch 26/50\n",
      "1162/1162 [==============================] - 1s 638us/step - loss: 0.2001 - accuracy: 0.5436 - val_loss: 0.1995 - val_accuracy: 0.5497\n",
      "Epoch 27/50\n",
      "1162/1162 [==============================] - 1s 633us/step - loss: 0.1988 - accuracy: 0.5547 - val_loss: 0.1981 - val_accuracy: 0.5603\n",
      "Epoch 28/50\n",
      "1162/1162 [==============================] - 1s 635us/step - loss: 0.1974 - accuracy: 0.5647 - val_loss: 0.1968 - val_accuracy: 0.5713\n",
      "Epoch 29/50\n",
      "1162/1162 [==============================] - 1s 650us/step - loss: 0.1961 - accuracy: 0.5744 - val_loss: 0.1955 - val_accuracy: 0.5800\n",
      "Epoch 30/50\n",
      "1162/1162 [==============================] - 1s 640us/step - loss: 0.1948 - accuracy: 0.5829 - val_loss: 0.1942 - val_accuracy: 0.5889\n",
      "Epoch 31/50\n",
      "1162/1162 [==============================] - 1s 643us/step - loss: 0.1935 - accuracy: 0.5914 - val_loss: 0.1929 - val_accuracy: 0.5969\n",
      "Epoch 32/50\n",
      "1162/1162 [==============================] - 1s 666us/step - loss: 0.1923 - accuracy: 0.5989 - val_loss: 0.1916 - val_accuracy: 0.6049\n",
      "Epoch 33/50\n",
      "1162/1162 [==============================] - 1s 685us/step - loss: 0.1910 - accuracy: 0.6070 - val_loss: 0.1904 - val_accuracy: 0.6143\n",
      "Epoch 34/50\n",
      "1162/1162 [==============================] - 1s 681us/step - loss: 0.1898 - accuracy: 0.6148 - val_loss: 0.1891 - val_accuracy: 0.6225\n",
      "Epoch 35/50\n",
      "1162/1162 [==============================] - 1s 699us/step - loss: 0.1885 - accuracy: 0.6226 - val_loss: 0.1879 - val_accuracy: 0.6289\n",
      "Epoch 36/50\n",
      "1162/1162 [==============================] - 1s 702us/step - loss: 0.1873 - accuracy: 0.6292 - val_loss: 0.1866 - val_accuracy: 0.6356\n",
      "Epoch 37/50\n",
      "1162/1162 [==============================] - 1s 700us/step - loss: 0.1861 - accuracy: 0.6371 - val_loss: 0.1854 - val_accuracy: 0.6427\n",
      "Epoch 38/50\n",
      "1162/1162 [==============================] - 1s 683us/step - loss: 0.1849 - accuracy: 0.6439 - val_loss: 0.1842 - val_accuracy: 0.6476\n",
      "Epoch 39/50\n",
      "1162/1162 [==============================] - 1s 749us/step - loss: 0.1837 - accuracy: 0.6514 - val_loss: 0.1830 - val_accuracy: 0.6547\n",
      "Epoch 40/50\n",
      "1162/1162 [==============================] - 1s 681us/step - loss: 0.1825 - accuracy: 0.6580 - val_loss: 0.1818 - val_accuracy: 0.6617\n",
      "Epoch 41/50\n",
      "1162/1162 [==============================] - 1s 699us/step - loss: 0.1814 - accuracy: 0.6643 - val_loss: 0.1807 - val_accuracy: 0.6690\n",
      "Epoch 42/50\n",
      "1162/1162 [==============================] - 1s 694us/step - loss: 0.1802 - accuracy: 0.6704 - val_loss: 0.1795 - val_accuracy: 0.6736\n",
      "Epoch 43/50\n",
      "1162/1162 [==============================] - 1s 682us/step - loss: 0.1791 - accuracy: 0.6768 - val_loss: 0.1784 - val_accuracy: 0.6777\n",
      "Epoch 44/50\n",
      "1162/1162 [==============================] - 1s 654us/step - loss: 0.1779 - accuracy: 0.6823 - val_loss: 0.1772 - val_accuracy: 0.6837\n",
      "Epoch 45/50\n",
      "1162/1162 [==============================] - 1s 652us/step - loss: 0.1768 - accuracy: 0.6882 - val_loss: 0.1761 - val_accuracy: 0.6892\n",
      "Epoch 46/50\n",
      "1162/1162 [==============================] - 1s 668us/step - loss: 0.1757 - accuracy: 0.6934 - val_loss: 0.1750 - val_accuracy: 0.6937\n",
      "Epoch 47/50\n",
      "1162/1162 [==============================] - 1s 667us/step - loss: 0.1746 - accuracy: 0.6982 - val_loss: 0.1739 - val_accuracy: 0.6983\n",
      "Epoch 48/50\n",
      "1162/1162 [==============================] - 1s 647us/step - loss: 0.1735 - accuracy: 0.7034 - val_loss: 0.1729 - val_accuracy: 0.7023\n",
      "Epoch 49/50\n",
      "1162/1162 [==============================] - 1s 693us/step - loss: 0.1725 - accuracy: 0.7072 - val_loss: 0.1718 - val_accuracy: 0.7066\n",
      "Epoch 50/50\n",
      "1162/1162 [==============================] - 1s 656us/step - loss: 0.1714 - accuracy: 0.7113 - val_loss: 0.1707 - val_accuracy: 0.7113\n",
      "Actual number of parameters: 16175\n"
     ]
    }
   ],
   "execution_count": 2
  },
  {
   "metadata": {
    "ExecuteTime": {
     "end_time": "2024-12-27T04:46:55.401533Z",
     "start_time": "2024-12-27T04:46:54.597905Z"
    }
   },
   "cell_type": "code",
   "source": [
    "import numpy as np\n",
    "\n",
    "model.evaluate(X_train, y_train)\n",
    "model.evaluate(X_test, y_test)\n",
    "\n",
    "random_test_indices = np.random.choice(X_test.shape[0], 5, replace=False)\n",
    "predicted = model.predict(X_test[random_test_indices])\n",
    "print(np.argmax(predicted, axis=1))\n",
    "predicted.round(2).astype('str')"
   ],
   "id": "9a17ebc3ab599a1d",
   "outputs": [
    {
     "name": "stdout",
     "output_type": "stream",
     "text": [
      "1125/1125 [==============================] - 1s 449us/step - loss: 0.1709 - accuracy: 0.7137\n",
      "375/375 [==============================] - 0s 442us/step - loss: 0.1707 - accuracy: 0.7113\n",
      "1/1 [==============================] - 0s 45ms/step\n",
      "[6 4 2 9 7]\n"
     ]
    },
    {
     "data": {
      "text/plain": [
       "array([['-0.08', '0.14', '0.28', '-0.0', '0.2', '0.05', '0.33', '-0.04',\n",
       "        '-0.0', '-0.02'],\n",
       "       ['-0.07', '-0.1', '-0.06', '-0.03', '0.76', '0.11', '0.06',\n",
       "        '0.06', '-0.02', '0.17'],\n",
       "       ['-0.09', '0.08', '0.26', '0.0', '0.14', '0.01', '0.19', '0.1',\n",
       "        '0.05', '0.07'],\n",
       "       ['0.11', '-0.0', '0.01', '-0.1', '0.07', '-0.01', '-0.08', '0.32',\n",
       "        '0.17', '0.36'],\n",
       "       ['0.02', '-0.07', '-0.0', '0.05', '0.17', '0.17', '0.12', '0.22',\n",
       "        '0.1', '0.13']], dtype='<U32')"
      ]
     },
     "execution_count": 3,
     "metadata": {},
     "output_type": "execute_result"
    }
   ],
   "execution_count": 3
  },
  {
   "metadata": {
    "ExecuteTime": {
     "end_time": "2024-12-27T04:47:28.392623Z",
     "start_time": "2024-12-27T04:47:28.226199Z"
    }
   },
   "cell_type": "code",
   "source": [
    "mnist_utils.plot_images(X_test[random_test_indices], image_size=image_size, cmap='gray')\n",
    "print(np.argmax(y_test[random_test_indices], axis=1))\n",
    "y_test[random_test_indices]"
   ],
   "id": "7c2ea7100031339c",
   "outputs": [
    {
     "data": {
      "text/plain": [
       "<Figure size 640x480 with 5 Axes>"
      ],
      "image/png": "[encoded data removed]"
     },
     "metadata": {},
     "output_type": "display_data"
    },
    {
     "name": "stdout",
     "output_type": "stream",
     "text": [
      "[6 4 2 9 9]\n"
     ]
    },
    {
     "data": {
      "text/plain": [
       "array([[0, 0, 0, 0, 0, 0, 1, 0, 0, 0],\n",
       "       [0, 0, 0, 0, 1, 0, 0, 0, 0, 0],\n",
       "       [0, 0, 1, 0, 0, 0, 0, 0, 0, 0],\n",
       "       [0, 0, 0, 0, 0, 0, 0, 0, 0, 1],\n",
       "       [0, 0, 0, 0, 0, 0, 0, 0, 0, 1]])"
      ]
     },
     "execution_count": 4,
     "metadata": {},
     "output_type": "execute_result"
    }
   ],
   "execution_count": 4
  },
  {
   "metadata": {},
   "cell_type": "markdown",
   "source": [
    "## Dimensionality Reduction with an Autoencoder\n",
    "\n",
    "This section demonstrates the use of two neural networks for dimensionality reduction. These networks rely on a bottleneck layer in their architecture to reduce the input data's dimensionality.\n",
    "\n",
    "Instead of using predefined methods to extract the most relevant features, the networks are trained using backpropagation. This approach enables the model to automatically learn a transformation into a compressed feature space along with its inverse transformation to reconstruct the input data as accurately as possible."
   ],
   "id": "14d02d0de03b9351"
  },
  {
   "metadata": {},
   "cell_type": "markdown",
   "source": [
    "### Shallow Autoencoder Network with 12 Neurons Bottleneck Layer\n",
    "\n",
    "This model is configured as follows:\n",
    "\n",
    "- **Architecture**:\n",
    "  - Input layer: 784 neurons\n",
    "  - 5 hidden layers:\n",
    "    - Layer 1: 196 neurons\n",
    "    - Layer 2: 49 neurons\n",
    "    - Layer 3: 12 neurons\n",
    "    - Layer 4: 49 neurons\n",
    "    - Layer 5: 196 neurons\n",
    "  - Output layer: 784 neurons\n",
    "  - Total parameters: 328998 (Biases included)\n",
    "- **Activation Function**: Gaussian Error Linear Unit (GeLU)\n",
    "- **Optimizer**: Stochastic Gradient Descent (SGD)\n",
    "  - Learning rate: 0.02\n",
    "  - Momentum: 0.2 with Nesterov term\n",
    "  - L1-weight-decay: 0.001\n",
    "  - L2-weight-decay: 0.001\n",
    "- **Loss Function**: Mean Squared Error (MSE)"
   ],
   "id": "33f569bb0aac8140"
  },
  {
   "metadata": {
    "ExecuteTime": {
     "end_time": "2024-12-27T05:12:01.095006Z",
     "start_time": "2024-12-27T04:47:38.365218Z"
    }
   },
   "cell_type": "code",
   "source": [
    "input_size, _, X_train, _, X_test, _ = mnist_utils.from_dataset(digits_input_reconstruction)\n",
    "\n",
    "batch_size = 31\n",
    "optimizer = SGD(learning_rate=0.02 / batch_size, momentum=0.2, nesterov=True)\n",
    "loss = 'mse'\n",
    "regularizer=L1L2(l1=0.0001, l2=0.001)\n",
    "\n",
    "\n",
    "def ssim_metric(y_true, y_pred):\n",
    "    y_true_reshaped = tf.reshape(y_true, [-1, image_size[0], image_size[1], 1])\n",
    "    y_pred_reshaped = tf.reshape(y_pred, [-1, image_size[0], image_size[1], 1])\n",
    "    return tf.reduce_mean(tf.image.ssim(y_true_reshaped, y_pred_reshaped, max_val=1.0))\n",
    "\n",
    "\n",
    "model = tf.keras.Sequential()\n",
    "model.add(Dense(196, activation='gelu', input_shape=(input_size,), kernel_regularizer=regularizer))\n",
    "model.add(Dense(49, activation='gelu', kernel_regularizer=regularizer))\n",
    "model.add(Dense(12, activation='gelu', kernel_regularizer=regularizer))\n",
    "model.add(Dense(49, activation='gelu', kernel_regularizer=regularizer))\n",
    "model.add(Dense(196, activation='gelu', kernel_regularizer=regularizer))\n",
    "model.add(Dense(input_size, activation='gelu', kernel_regularizer=regularizer))\n",
    "model.compile(optimizer=optimizer, loss=loss, metrics=['accuracy', ssim_metric])\n",
    "model.fit(X_train, X_train, validation_data=(X_test, X_test), epochs=100, batch_size=batch_size)\n",
    "\n",
    "print(f'Actual number of parameters: {model.count_params()}')"
   ],
   "id": "54e122105e073306",
   "outputs": [
    {
     "name": "stdout",
     "output_type": "stream",
     "text": [
      "Epoch 1/100\n",
      "1549/1549 [==============================] - 13s 8ms/step - loss: 2.2976 - accuracy: 0.0011 - ssim_metric: 0.0973 - val_loss: 2.2896 - val_accuracy: 9.1667e-04 - val_ssim_metric: 0.0973\n",
      "Epoch 2/100\n",
      "1549/1549 [==============================] - 13s 8ms/step - loss: 2.2825 - accuracy: 0.0015 - ssim_metric: 0.0977 - val_loss: 2.2746 - val_accuracy: 0.0012 - val_ssim_metric: 0.0976\n",
      "Epoch 3/100\n",
      "1549/1549 [==============================] - 13s 8ms/step - loss: 2.2675 - accuracy: 0.0018 - ssim_metric: 0.0980 - val_loss: 2.2596 - val_accuracy: 0.0015 - val_ssim_metric: 0.0980\n",
      "Epoch 4/100\n",
      "1549/1549 [==============================] - 13s 8ms/step - loss: 2.2526 - accuracy: 0.0021 - ssim_metric: 0.0983 - val_loss: 2.2448 - val_accuracy: 0.0017 - val_ssim_metric: 0.0983\n",
      "Epoch 5/100\n",
      "1549/1549 [==============================] - 13s 9ms/step - loss: 2.2378 - accuracy: 0.0025 - ssim_metric: 0.0986 - val_loss: 2.2300 - val_accuracy: 0.0020 - val_ssim_metric: 0.0986\n",
      "Epoch 6/100\n",
      "1549/1549 [==============================] - 13s 8ms/step - loss: 2.2231 - accuracy: 0.0029 - ssim_metric: 0.0989 - val_loss: 2.2153 - val_accuracy: 0.0022 - val_ssim_metric: 0.0988\n",
      "Epoch 7/100\n",
      "1549/1549 [==============================] - 13s 8ms/step - loss: 2.2084 - accuracy: 0.0031 - ssim_metric: 0.0991 - val_loss: 2.2007 - val_accuracy: 0.0031 - val_ssim_metric: 0.0990\n",
      "Epoch 8/100\n",
      "1549/1549 [==============================] - 13s 8ms/step - loss: 2.1939 - accuracy: 0.0035 - ssim_metric: 0.0993 - val_loss: 2.1862 - val_accuracy: 0.0031 - val_ssim_metric: 0.0991\n",
      "Epoch 9/100\n",
      "1549/1549 [==============================] - 15s 10ms/step - loss: 2.1794 - accuracy: 0.0037 - ssim_metric: 0.0994 - val_loss: 2.1717 - val_accuracy: 0.0030 - val_ssim_metric: 0.0993\n",
      "Epoch 10/100\n",
      "1549/1549 [==============================] - 15s 10ms/step - loss: 2.1650 - accuracy: 0.0038 - ssim_metric: 0.0995 - val_loss: 2.1573 - val_accuracy: 0.0033 - val_ssim_metric: 0.0993\n",
      "Epoch 11/100\n",
      "1549/1549 [==============================] - 15s 10ms/step - loss: 2.1506 - accuracy: 0.0039 - ssim_metric: 0.0996 - val_loss: 2.1430 - val_accuracy: 0.0037 - val_ssim_metric: 0.0994\n",
      "Epoch 12/100\n",
      "1549/1549 [==============================] - 15s 10ms/step - loss: 2.1364 - accuracy: 0.0039 - ssim_metric: 0.0996 - val_loss: 2.1288 - val_accuracy: 0.0038 - val_ssim_metric: 0.0994\n",
      "Epoch 13/100\n",
      "1549/1549 [==============================] - 15s 10ms/step - loss: 2.1222 - accuracy: 0.0041 - ssim_metric: 0.0996 - val_loss: 2.1147 - val_accuracy: 0.0040 - val_ssim_metric: 0.0994\n",
      "Epoch 14/100\n",
      "1549/1549 [==============================] - 15s 10ms/step - loss: 2.1081 - accuracy: 0.0043 - ssim_metric: 0.0996 - val_loss: 2.1006 - val_accuracy: 0.0045 - val_ssim_metric: 0.0994\n",
      "Epoch 15/100\n",
      "1549/1549 [==============================] - 15s 10ms/step - loss: 2.0940 - accuracy: 0.0044 - ssim_metric: 0.0995 - val_loss: 2.0866 - val_accuracy: 0.0047 - val_ssim_metric: 0.0993\n",
      "Epoch 16/100\n",
      "1549/1549 [==============================] - 15s 10ms/step - loss: 2.0801 - accuracy: 0.0047 - ssim_metric: 0.0995 - val_loss: 2.0727 - val_accuracy: 0.0049 - val_ssim_metric: 0.0992\n",
      "Epoch 17/100\n",
      "1549/1549 [==============================] - 15s 10ms/step - loss: 2.0662 - accuracy: 0.0048 - ssim_metric: 0.0994 - val_loss: 2.0589 - val_accuracy: 0.0056 - val_ssim_metric: 0.0991\n",
      "Epoch 18/100\n",
      "1549/1549 [==============================] - 15s 10ms/step - loss: 2.0524 - accuracy: 0.0051 - ssim_metric: 0.0992 - val_loss: 2.0451 - val_accuracy: 0.0053 - val_ssim_metric: 0.0990\n",
      "Epoch 19/100\n",
      "1549/1549 [==============================] - 15s 10ms/step - loss: 2.0387 - accuracy: 0.0053 - ssim_metric: 0.0991 - val_loss: 2.0314 - val_accuracy: 0.0054 - val_ssim_metric: 0.0988\n",
      "Epoch 20/100\n",
      "1549/1549 [==============================] - 15s 10ms/step - loss: 2.0250 - accuracy: 0.0054 - ssim_metric: 0.0989 - val_loss: 2.0178 - val_accuracy: 0.0055 - val_ssim_metric: 0.0987\n",
      "Epoch 21/100\n",
      "1549/1549 [==============================] - 15s 10ms/step - loss: 2.0115 - accuracy: 0.0054 - ssim_metric: 0.0987 - val_loss: 2.0043 - val_accuracy: 0.0058 - val_ssim_metric: 0.0985\n",
      "Epoch 22/100\n",
      "1549/1549 [==============================] - 15s 10ms/step - loss: 1.9980 - accuracy: 0.0056 - ssim_metric: 0.0985 - val_loss: 1.9908 - val_accuracy: 0.0061 - val_ssim_metric: 0.0983\n",
      "Epoch 23/100\n",
      "1549/1549 [==============================] - 15s 10ms/step - loss: 1.9845 - accuracy: 0.0058 - ssim_metric: 0.0983 - val_loss: 1.9774 - val_accuracy: 0.0059 - val_ssim_metric: 0.0980\n",
      "Epoch 24/100\n",
      "1549/1549 [==============================] - 15s 10ms/step - loss: 1.9712 - accuracy: 0.0060 - ssim_metric: 0.0981 - val_loss: 1.9641 - val_accuracy: 0.0058 - val_ssim_metric: 0.0978\n",
      "Epoch 25/100\n",
      "1549/1549 [==============================] - 15s 10ms/step - loss: 1.9579 - accuracy: 0.0060 - ssim_metric: 0.0978 - val_loss: 1.9508 - val_accuracy: 0.0061 - val_ssim_metric: 0.0975\n",
      "Epoch 26/100\n",
      "1549/1549 [==============================] - 15s 10ms/step - loss: 1.9447 - accuracy: 0.0060 - ssim_metric: 0.0975 - val_loss: 1.9377 - val_accuracy: 0.0068 - val_ssim_metric: 0.0972\n",
      "Epoch 27/100\n",
      "1549/1549 [==============================] - 15s 10ms/step - loss: 1.9315 - accuracy: 0.0062 - ssim_metric: 0.0972 - val_loss: 1.9246 - val_accuracy: 0.0070 - val_ssim_metric: 0.0969\n",
      "Epoch 28/100\n",
      "1549/1549 [==============================] - 15s 10ms/step - loss: 1.9185 - accuracy: 0.0063 - ssim_metric: 0.0970 - val_loss: 1.9115 - val_accuracy: 0.0071 - val_ssim_metric: 0.0966\n",
      "Epoch 29/100\n",
      "1549/1549 [==============================] - 15s 10ms/step - loss: 1.9055 - accuracy: 0.0060 - ssim_metric: 0.0966 - val_loss: 1.8986 - val_accuracy: 0.0070 - val_ssim_metric: 0.0963\n",
      "Epoch 30/100\n",
      "1549/1549 [==============================] - 15s 10ms/step - loss: 1.8926 - accuracy: 0.0061 - ssim_metric: 0.0963 - val_loss: 1.8857 - val_accuracy: 0.0068 - val_ssim_metric: 0.0960\n",
      "Epoch 31/100\n",
      "1549/1549 [==============================] - 15s 10ms/step - loss: 1.8797 - accuracy: 0.0063 - ssim_metric: 0.0960 - val_loss: 1.8729 - val_accuracy: 0.0067 - val_ssim_metric: 0.0957\n",
      "Epoch 32/100\n",
      "1549/1549 [==============================] - 15s 10ms/step - loss: 1.8669 - accuracy: 0.0063 - ssim_metric: 0.0957 - val_loss: 1.8601 - val_accuracy: 0.0066 - val_ssim_metric: 0.0953\n",
      "Epoch 33/100\n",
      "1549/1549 [==============================] - 15s 10ms/step - loss: 1.8542 - accuracy: 0.0063 - ssim_metric: 0.0953 - val_loss: 1.8475 - val_accuracy: 0.0068 - val_ssim_metric: 0.0950\n",
      "Epoch 34/100\n",
      "1549/1549 [==============================] - 15s 10ms/step - loss: 1.8416 - accuracy: 0.0064 - ssim_metric: 0.0949 - val_loss: 1.8348 - val_accuracy: 0.0066 - val_ssim_metric: 0.0947\n",
      "Epoch 35/100\n",
      "1549/1549 [==============================] - 15s 10ms/step - loss: 1.8290 - accuracy: 0.0066 - ssim_metric: 0.0946 - val_loss: 1.8223 - val_accuracy: 0.0067 - val_ssim_metric: 0.0943\n",
      "Epoch 36/100\n",
      "1549/1549 [==============================] - 15s 10ms/step - loss: 1.8165 - accuracy: 0.0067 - ssim_metric: 0.0942 - val_loss: 1.8099 - val_accuracy: 0.0065 - val_ssim_metric: 0.0939\n",
      "Epoch 37/100\n",
      "1549/1549 [==============================] - 15s 10ms/step - loss: 1.8041 - accuracy: 0.0068 - ssim_metric: 0.0939 - val_loss: 1.7975 - val_accuracy: 0.0064 - val_ssim_metric: 0.0936\n",
      "Epoch 38/100\n",
      "1549/1549 [==============================] - 15s 10ms/step - loss: 1.7917 - accuracy: 0.0069 - ssim_metric: 0.0935 - val_loss: 1.7851 - val_accuracy: 0.0066 - val_ssim_metric: 0.0932\n",
      "Epoch 39/100\n",
      "1549/1549 [==============================] - 15s 10ms/step - loss: 1.7794 - accuracy: 0.0069 - ssim_metric: 0.0931 - val_loss: 1.7729 - val_accuracy: 0.0068 - val_ssim_metric: 0.0928\n",
      "Epoch 40/100\n",
      "1549/1549 [==============================] - 15s 10ms/step - loss: 1.7672 - accuracy: 0.0068 - ssim_metric: 0.0927 - val_loss: 1.7607 - val_accuracy: 0.0064 - val_ssim_metric: 0.0924\n",
      "Epoch 41/100\n",
      "1549/1549 [==============================] - 15s 10ms/step - loss: 1.7550 - accuracy: 0.0070 - ssim_metric: 0.0923 - val_loss: 1.7485 - val_accuracy: 0.0063 - val_ssim_metric: 0.0921\n",
      "Epoch 42/100\n",
      "1549/1549 [==============================] - 15s 10ms/step - loss: 1.7429 - accuracy: 0.0070 - ssim_metric: 0.0920 - val_loss: 1.7365 - val_accuracy: 0.0065 - val_ssim_metric: 0.0917\n",
      "Epoch 43/100\n",
      "1549/1549 [==============================] - 15s 10ms/step - loss: 1.7309 - accuracy: 0.0071 - ssim_metric: 0.0916 - val_loss: 1.7245 - val_accuracy: 0.0067 - val_ssim_metric: 0.0913\n",
      "Epoch 44/100\n",
      "1549/1549 [==============================] - 15s 10ms/step - loss: 1.7189 - accuracy: 0.0074 - ssim_metric: 0.0912 - val_loss: 1.7126 - val_accuracy: 0.0070 - val_ssim_metric: 0.0909\n",
      "Epoch 45/100\n",
      "1549/1549 [==============================] - 15s 10ms/step - loss: 1.7071 - accuracy: 0.0074 - ssim_metric: 0.0908 - val_loss: 1.7007 - val_accuracy: 0.0072 - val_ssim_metric: 0.0905\n",
      "Epoch 46/100\n",
      "1549/1549 [==============================] - 15s 10ms/step - loss: 1.6952 - accuracy: 0.0077 - ssim_metric: 0.0904 - val_loss: 1.6889 - val_accuracy: 0.0073 - val_ssim_metric: 0.0901\n",
      "Epoch 47/100\n",
      "1549/1549 [==============================] - 15s 10ms/step - loss: 1.6835 - accuracy: 0.0077 - ssim_metric: 0.0900 - val_loss: 1.6772 - val_accuracy: 0.0075 - val_ssim_metric: 0.0897\n",
      "Epoch 48/100\n",
      "1549/1549 [==============================] - 15s 10ms/step - loss: 1.6718 - accuracy: 0.0081 - ssim_metric: 0.0896 - val_loss: 1.6655 - val_accuracy: 0.0077 - val_ssim_metric: 0.0894\n",
      "Epoch 49/100\n",
      "1549/1549 [==============================] - 15s 10ms/step - loss: 1.6601 - accuracy: 0.0082 - ssim_metric: 0.0892 - val_loss: 1.6539 - val_accuracy: 0.0082 - val_ssim_metric: 0.0890\n",
      "Epoch 50/100\n",
      "1549/1549 [==============================] - 15s 10ms/step - loss: 1.6486 - accuracy: 0.0086 - ssim_metric: 0.0888 - val_loss: 1.6424 - val_accuracy: 0.0083 - val_ssim_metric: 0.0886\n",
      "Epoch 51/100\n",
      "1549/1549 [==============================] - 15s 10ms/step - loss: 1.6371 - accuracy: 0.0088 - ssim_metric: 0.0885 - val_loss: 1.6309 - val_accuracy: 0.0085 - val_ssim_metric: 0.0882\n",
      "Epoch 52/100\n",
      "1549/1549 [==============================] - 15s 10ms/step - loss: 1.6256 - accuracy: 0.0092 - ssim_metric: 0.0881 - val_loss: 1.6195 - val_accuracy: 0.0093 - val_ssim_metric: 0.0878\n",
      "Epoch 53/100\n",
      "1549/1549 [==============================] - 15s 10ms/step - loss: 1.6143 - accuracy: 0.0096 - ssim_metric: 0.0877 - val_loss: 1.6082 - val_accuracy: 0.0093 - val_ssim_metric: 0.0874\n",
      "Epoch 54/100\n",
      "1549/1549 [==============================] - 16s 10ms/step - loss: 1.6030 - accuracy: 0.0100 - ssim_metric: 0.0873 - val_loss: 1.5969 - val_accuracy: 0.0098 - val_ssim_metric: 0.0870\n",
      "Epoch 55/100\n",
      "1549/1549 [==============================] - 15s 10ms/step - loss: 1.5917 - accuracy: 0.0102 - ssim_metric: 0.0869 - val_loss: 1.5857 - val_accuracy: 0.0103 - val_ssim_metric: 0.0866\n",
      "Epoch 56/100\n",
      "1549/1549 [==============================] - 16s 10ms/step - loss: 1.5805 - accuracy: 0.0108 - ssim_metric: 0.0865 - val_loss: 1.5745 - val_accuracy: 0.0104 - val_ssim_metric: 0.0863\n",
      "Epoch 57/100\n",
      "1549/1549 [==============================] - 16s 10ms/step - loss: 1.5694 - accuracy: 0.0111 - ssim_metric: 0.0861 - val_loss: 1.5635 - val_accuracy: 0.0104 - val_ssim_metric: 0.0859\n",
      "Epoch 58/100\n",
      "1549/1549 [==============================] - 15s 10ms/step - loss: 1.5584 - accuracy: 0.0114 - ssim_metric: 0.0858 - val_loss: 1.5524 - val_accuracy: 0.0107 - val_ssim_metric: 0.0855\n",
      "Epoch 59/100\n",
      "1549/1549 [==============================] - 13s 8ms/step - loss: 1.5474 - accuracy: 0.0116 - ssim_metric: 0.0854 - val_loss: 1.5415 - val_accuracy: 0.0109 - val_ssim_metric: 0.0851\n",
      "Epoch 60/100\n",
      "1549/1549 [==============================] - 13s 8ms/step - loss: 1.5364 - accuracy: 0.0119 - ssim_metric: 0.0850 - val_loss: 1.5306 - val_accuracy: 0.0115 - val_ssim_metric: 0.0848\n",
      "Epoch 61/100\n",
      "1549/1549 [==============================] - 13s 8ms/step - loss: 1.5256 - accuracy: 0.0122 - ssim_metric: 0.0846 - val_loss: 1.5197 - val_accuracy: 0.0117 - val_ssim_metric: 0.0844\n",
      "Epoch 62/100\n",
      "1549/1549 [==============================] - 13s 8ms/step - loss: 1.5148 - accuracy: 0.0125 - ssim_metric: 0.0842 - val_loss: 1.5089 - val_accuracy: 0.0122 - val_ssim_metric: 0.0840\n",
      "Epoch 63/100\n",
      "1549/1549 [==============================] - 13s 8ms/step - loss: 1.5040 - accuracy: 0.0128 - ssim_metric: 0.0839 - val_loss: 1.4982 - val_accuracy: 0.0125 - val_ssim_metric: 0.0836\n",
      "Epoch 64/100\n",
      "1549/1549 [==============================] - 13s 8ms/step - loss: 1.4933 - accuracy: 0.0131 - ssim_metric: 0.0835 - val_loss: 1.4876 - val_accuracy: 0.0127 - val_ssim_metric: 0.0833\n",
      "Epoch 65/100\n",
      "1549/1549 [==============================] - 13s 8ms/step - loss: 1.4827 - accuracy: 0.0134 - ssim_metric: 0.0831 - val_loss: 1.4770 - val_accuracy: 0.0131 - val_ssim_metric: 0.0829\n",
      "Epoch 66/100\n",
      "1549/1549 [==============================] - 12s 8ms/step - loss: 1.4721 - accuracy: 0.0137 - ssim_metric: 0.0828 - val_loss: 1.4664 - val_accuracy: 0.0132 - val_ssim_metric: 0.0826\n",
      "Epoch 67/100\n",
      "1549/1549 [==============================] - 13s 8ms/step - loss: 1.4616 - accuracy: 0.0139 - ssim_metric: 0.0824 - val_loss: 1.4560 - val_accuracy: 0.0132 - val_ssim_metric: 0.0822\n",
      "Epoch 68/100\n",
      "1549/1549 [==============================] - 13s 8ms/step - loss: 1.4512 - accuracy: 0.0141 - ssim_metric: 0.0821 - val_loss: 1.4455 - val_accuracy: 0.0135 - val_ssim_metric: 0.0818\n",
      "Epoch 69/100\n",
      "1549/1549 [==============================] - 13s 8ms/step - loss: 1.4408 - accuracy: 0.0141 - ssim_metric: 0.0817 - val_loss: 1.4352 - val_accuracy: 0.0137 - val_ssim_metric: 0.0815\n",
      "Epoch 70/100\n",
      "1549/1549 [==============================] - 13s 8ms/step - loss: 1.4305 - accuracy: 0.0144 - ssim_metric: 0.0813 - val_loss: 1.4249 - val_accuracy: 0.0139 - val_ssim_metric: 0.0811\n",
      "Epoch 71/100\n",
      "1549/1549 [==============================] - 13s 8ms/step - loss: 1.4202 - accuracy: 0.0146 - ssim_metric: 0.0810 - val_loss: 1.4146 - val_accuracy: 0.0141 - val_ssim_metric: 0.0808\n",
      "Epoch 72/100\n",
      "1549/1549 [==============================] - 13s 8ms/step - loss: 1.4100 - accuracy: 0.0147 - ssim_metric: 0.0807 - val_loss: 1.4045 - val_accuracy: 0.0142 - val_ssim_metric: 0.0805\n",
      "Epoch 73/100\n",
      "1549/1549 [==============================] - 13s 8ms/step - loss: 1.3998 - accuracy: 0.0148 - ssim_metric: 0.0803 - val_loss: 1.3943 - val_accuracy: 0.0142 - val_ssim_metric: 0.0801\n",
      "Epoch 74/100\n",
      "1549/1549 [==============================] - 14s 9ms/step - loss: 1.3897 - accuracy: 0.0149 - ssim_metric: 0.0800 - val_loss: 1.3843 - val_accuracy: 0.0143 - val_ssim_metric: 0.0798\n",
      "Epoch 75/100\n",
      "1549/1549 [==============================] - 15s 10ms/step - loss: 1.3797 - accuracy: 0.0149 - ssim_metric: 0.0796 - val_loss: 1.3742 - val_accuracy: 0.0144 - val_ssim_metric: 0.0795\n",
      "Epoch 76/100\n",
      "1549/1549 [==============================] - 15s 10ms/step - loss: 1.3697 - accuracy: 0.0149 - ssim_metric: 0.0793 - val_loss: 1.3643 - val_accuracy: 0.0144 - val_ssim_metric: 0.0791\n",
      "Epoch 77/100\n",
      "1549/1549 [==============================] - 15s 10ms/step - loss: 1.3598 - accuracy: 0.0150 - ssim_metric: 0.0789 - val_loss: 1.3544 - val_accuracy: 0.0146 - val_ssim_metric: 0.0788\n",
      "Epoch 78/100\n",
      "1549/1549 [==============================] - 15s 10ms/step - loss: 1.3499 - accuracy: 0.0151 - ssim_metric: 0.0786 - val_loss: 1.3446 - val_accuracy: 0.0146 - val_ssim_metric: 0.0785\n",
      "Epoch 79/100\n",
      "1549/1549 [==============================] - 16s 10ms/step - loss: 1.3401 - accuracy: 0.0151 - ssim_metric: 0.0783 - val_loss: 1.3348 - val_accuracy: 0.0146 - val_ssim_metric: 0.0782\n",
      "Epoch 80/100\n",
      "1549/1549 [==============================] - 16s 10ms/step - loss: 1.3303 - accuracy: 0.0151 - ssim_metric: 0.0780 - val_loss: 1.3250 - val_accuracy: 0.0146 - val_ssim_metric: 0.0778\n",
      "Epoch 81/100\n",
      "1549/1549 [==============================] - 15s 10ms/step - loss: 1.3206 - accuracy: 0.0151 - ssim_metric: 0.0777 - val_loss: 1.3154 - val_accuracy: 0.0146 - val_ssim_metric: 0.0775\n",
      "Epoch 82/100\n",
      "1549/1549 [==============================] - 15s 10ms/step - loss: 1.3110 - accuracy: 0.0151 - ssim_metric: 0.0774 - val_loss: 1.3058 - val_accuracy: 0.0146 - val_ssim_metric: 0.0772\n",
      "Epoch 83/100\n",
      "1549/1549 [==============================] - 16s 10ms/step - loss: 1.3014 - accuracy: 0.0151 - ssim_metric: 0.0770 - val_loss: 1.2962 - val_accuracy: 0.0146 - val_ssim_metric: 0.0769\n",
      "Epoch 84/100\n",
      "1549/1549 [==============================] - 15s 10ms/step - loss: 1.2919 - accuracy: 0.0151 - ssim_metric: 0.0767 - val_loss: 1.2867 - val_accuracy: 0.0146 - val_ssim_metric: 0.0766\n",
      "Epoch 85/100\n",
      "1549/1549 [==============================] - 16s 10ms/step - loss: 1.2824 - accuracy: 0.0151 - ssim_metric: 0.0764 - val_loss: 1.2772 - val_accuracy: 0.0146 - val_ssim_metric: 0.0763\n",
      "Epoch 86/100\n",
      "1549/1549 [==============================] - 15s 10ms/step - loss: 1.2730 - accuracy: 0.0151 - ssim_metric: 0.0761 - val_loss: 1.2678 - val_accuracy: 0.0146 - val_ssim_metric: 0.0760\n",
      "Epoch 87/100\n",
      "1549/1549 [==============================] - 15s 10ms/step - loss: 1.2636 - accuracy: 0.0151 - ssim_metric: 0.0758 - val_loss: 1.2585 - val_accuracy: 0.0146 - val_ssim_metric: 0.0757\n",
      "Epoch 88/100\n",
      "1549/1549 [==============================] - 15s 10ms/step - loss: 1.2543 - accuracy: 0.0151 - ssim_metric: 0.0755 - val_loss: 1.2492 - val_accuracy: 0.0146 - val_ssim_metric: 0.0754\n",
      "Epoch 89/100\n",
      "1549/1549 [==============================] - 15s 10ms/step - loss: 1.2450 - accuracy: 0.0151 - ssim_metric: 0.0752 - val_loss: 1.2400 - val_accuracy: 0.0146 - val_ssim_metric: 0.0751\n",
      "Epoch 90/100\n",
      "1549/1549 [==============================] - 15s 10ms/step - loss: 1.2358 - accuracy: 0.0151 - ssim_metric: 0.0750 - val_loss: 1.2308 - val_accuracy: 0.0146 - val_ssim_metric: 0.0748\n",
      "Epoch 91/100\n",
      "1549/1549 [==============================] - 15s 10ms/step - loss: 1.2266 - accuracy: 0.0151 - ssim_metric: 0.0747 - val_loss: 1.2217 - val_accuracy: 0.0146 - val_ssim_metric: 0.0746\n",
      "Epoch 92/100\n",
      "1549/1549 [==============================] - 15s 10ms/step - loss: 1.2175 - accuracy: 0.0151 - ssim_metric: 0.0744 - val_loss: 1.2126 - val_accuracy: 0.0146 - val_ssim_metric: 0.0743\n",
      "Epoch 93/100\n",
      "1549/1549 [==============================] - 15s 10ms/step - loss: 1.2085 - accuracy: 0.0151 - ssim_metric: 0.0741 - val_loss: 1.2036 - val_accuracy: 0.0146 - val_ssim_metric: 0.0740\n",
      "Epoch 94/100\n",
      "1549/1549 [==============================] - 15s 10ms/step - loss: 1.1995 - accuracy: 0.0151 - ssim_metric: 0.0738 - val_loss: 1.1946 - val_accuracy: 0.0146 - val_ssim_metric: 0.0737\n",
      "Epoch 95/100\n",
      "1549/1549 [==============================] - 15s 10ms/step - loss: 1.1906 - accuracy: 0.0151 - ssim_metric: 0.0736 - val_loss: 1.1857 - val_accuracy: 0.0146 - val_ssim_metric: 0.0735\n",
      "Epoch 96/100\n",
      "1549/1549 [==============================] - 15s 10ms/step - loss: 1.1817 - accuracy: 0.0151 - ssim_metric: 0.0733 - val_loss: 1.1768 - val_accuracy: 0.0146 - val_ssim_metric: 0.0732\n",
      "Epoch 97/100\n",
      "1549/1549 [==============================] - 15s 10ms/step - loss: 1.1728 - accuracy: 0.0151 - ssim_metric: 0.0730 - val_loss: 1.1680 - val_accuracy: 0.0146 - val_ssim_metric: 0.0729\n",
      "Epoch 98/100\n",
      "1549/1549 [==============================] - 15s 10ms/step - loss: 1.1640 - accuracy: 0.0151 - ssim_metric: 0.0728 - val_loss: 1.1592 - val_accuracy: 0.0146 - val_ssim_metric: 0.0727\n",
      "Epoch 99/100\n",
      "1549/1549 [==============================] - 15s 10ms/step - loss: 1.1553 - accuracy: 0.0151 - ssim_metric: 0.0725 - val_loss: 1.1505 - val_accuracy: 0.0146 - val_ssim_metric: 0.0724\n",
      "Epoch 100/100\n",
      "1549/1549 [==============================] - 15s 10ms/step - loss: 1.1466 - accuracy: 0.0151 - ssim_metric: 0.0723 - val_loss: 1.1419 - val_accuracy: 0.0146 - val_ssim_metric: 0.0722\n",
      "Actual number of parameters: 328998\n"
     ]
    }
   ],
   "execution_count": 5
  },
  {
   "metadata": {
    "ExecuteTime": {
     "end_time": "2024-12-27T05:12:22.058698Z",
     "start_time": "2024-12-27T05:12:10.300443Z"
    }
   },
   "cell_type": "code",
   "source": [
    "original = X_test[random_test_indices]\n",
    "mnist_utils.plot_images(original, image_size=image_size, cmap='gray')\n",
    "\n",
    "model.evaluate(X_train, X_train)\n",
    "model.evaluate(X_test, X_test)\n",
    "restored = model.predict(original)\n",
    "mnist_utils.plot_images(restored, image_size=image_size, cmap='gray')"
   ],
   "id": "9d91c2218ebfb2e9",
   "outputs": [
    {
     "data": {
      "text/plain": [
       "<Figure size 640x480 with 5 Axes>"
      ],
      "image/png": "[encoded data removed]"
     },
     "metadata": {},
     "output_type": "display_data"
    },
    {
     "name": "stdout",
     "output_type": "stream",
     "text": [
      "1500/1500 [==============================] - 9s 6ms/step - loss: 1.1423 - accuracy: 0.0151 - ssim_metric: 0.0721\n",
      "375/375 [==============================] - 2s 6ms/step - loss: 1.1419 - accuracy: 0.0146 - ssim_metric: 0.0722\n",
      "1/1 [==============================] - 0s 48ms/step\n"
     ]
    },
    {
     "data": {
      "text/plain": [
       "<Figure size 640x480 with 5 Axes>"
      ],
      "image/png": "[encoded data removed]"
     },
     "metadata": {},
     "output_type": "display_data"
    }
   ],
   "execution_count": 6
  }
 ],
 "metadata": {
  "kernelspec": {
   "name": "python3",
   "language": "python",
   "display_name": "Python 3 (ipykernel)"
  }
 },
 "nbformat": 4,
 "nbformat_minor": 5
}
