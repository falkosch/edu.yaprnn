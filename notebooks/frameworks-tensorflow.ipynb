{
 "cells": [
  {
   "metadata": {},
   "cell_type": "markdown",
   "source": [
    "# tensorflow: Training Neural Networks for Classification and Dimensionality Reduction\n",
    "\n",
    "This notebook demonstrates example neural network setups for **image classification** and **dimensionality reduction** tasks using `tensorflow`.\n",
    "\n",
    "The examples serve as complement and comparison for exploring neural networks with the `edu.yaprnn` app.\n",
    "\n",
    "### TensorFlow on Windows: Virtual Environment Setup\n",
    "\n",
    "To ensure TensorFlow compatibility on Windows, use the script `setup-venv-tensorflow-2.10.1.sh` to create a dedicated Python virtual environment with TensorFlow version `2.10.1`."
   ],
   "id": "b416c898b4c865ed"
  },
  {
   "metadata": {
    "ExecuteTime": {
     "end_time": "2024-12-30T18:26:39.991963Z",
     "start_time": "2024-12-30T18:26:38.833314Z"
    }
   },
   "cell_type": "code",
   "source": [
    "from sklearn.model_selection import train_test_split\n",
    "\n",
    "import mnist_utils\n",
    "import model_utils\n",
    "\n",
    "mnist_images, image_size, X, random_x_indices, random_feature_indices, y, labels = mnist_utils.from_mnist_images()\n",
    "\n",
    "digits_train_32k_test_12k = train_test_split(X, y, labels, train_size=0.6, test_size=0.2, random_state=model_utils.SEED)\n",
    "digits_images_from_labels = train_test_split(X, y, labels, train_size=0.8, test_size=0.2, random_state=model_utils.SEED)\n",
    "digits_input_reconstruction = train_test_split(X, y, labels, train_size=0.8, test_size=0.2,\n",
    "                                               random_state=model_utils.SEED)\n",
    "\n",
    "mnist_utils.from_dataset(digits_train_32k_test_12k, explain=True)\n",
    "mnist_utils.from_dataset(digits_images_from_labels, explain=True)\n",
    "mnist_utils.from_dataset(digits_input_reconstruction, explain=True)\n",
    "\n",
    "None"
   ],
   "id": "ddee58bbed8455ab",
   "outputs": [
    {
     "name": "stdout",
     "output_type": "stream",
     "text": [
      "Loading MNIST images from E:\\edu.yaprnn\\src\\main\\resources\\digits.idx3-ubyte\n"
     ]
    },
    {
     "data": {
      "text/plain": [
       "<Figure size 100x100 with 1 Axes>"
      ],
      "image/png": "[encoded data removed]"
     },
     "metadata": {},
     "output_type": "display_data"
    },
    {
     "data": {
      "text/plain": [
       "<Figure size 640x480 with 3 Axes>"
      ],
      "image/png": "[encoded data removed]"
     },
     "metadata": {},
     "output_type": "display_data"
    },
    {
     "data": {
      "text/plain": [
       "<Figure size 640x480 with 10 Axes>"
      ],
      "image/png": "[encoded data removed]"
     },
     "metadata": {},
     "output_type": "display_data"
    },
    {
     "name": "stdout",
     "output_type": "stream",
     "text": [
      "(36000, 784) (36000, 10) (36000,) (12000, 784) (12000, 10) (12000,)\n",
      "(48000, 784) (48000, 10) (48000,) (12000, 784) (12000, 10) (12000,)\n",
      "(48000, 784) (48000, 10) (48000,) (12000, 784) (12000, 10) (12000,)\n"
     ]
    }
   ],
   "execution_count": 1
  },
  {
   "metadata": {
    "ExecuteTime": {
     "end_time": "2024-12-30T18:26:42.557071Z",
     "start_time": "2024-12-30T18:26:41.420965Z"
    }
   },
   "cell_type": "code",
   "source": [
    "from tensorflow.keras import Sequential\n",
    "from tensorflow.keras.layers import Dense\n",
    "from tensorflow.keras.optimizers import SGD\n",
    "from tensorflow.keras.regularizers import L1L2\n",
    "import numpy as np\n",
    "import tensorflow as tf\n",
    "\n",
    "def ssim_metric(y_true, y_pred):\n",
    "    y_true_reshaped = tf.reshape(y_true, [-1, image_size[0], image_size[1], 1])\n",
    "    y_pred_reshaped = tf.reshape(y_pred, [-1, image_size[0], image_size[1], 1])\n",
    "    return tf.reduce_mean(tf.image.ssim(y_true_reshaped, y_pred_reshaped, max_val=1.0))"
   ],
   "id": "38f49be67646c836",
   "outputs": [],
   "execution_count": 2
  },
  {
   "metadata": {},
   "cell_type": "markdown",
   "source": [
    "# Digits Classification\n",
    "\n",
    "This model is configured as follows:\n",
    "\n",
    "- **Architecture**:\n",
    "  - Input layer: 784 neurons\n",
    "  - 2 hidden layers:\n",
    "    - Layer 1: 20 neurons\n",
    "    - Layer 2: 15 neurons\n",
    "  - Output layer: 10 neurons\n",
    "  - Total parameters: `((784 + 1) * 20) + ((20 + 1) * 15) + ((15 + 1) * 10) = 16175` (Biases included)\n",
    "- **Activation Function**: gelu\n",
    "- **Optimizer**: Stochastic Gradient Descent (SGD)\n",
    "  - Learning rate: 0.02 / 32 (=batch_size)\n",
    "  - Momentum: 0.2 with Nesterov term\n",
    "  - L1-weight-decay: 0.001\n",
    "  - L2-weight-decay: 0.001\n",
    "- **Loss Function**: Mean Squared Error (MSE)"
   ],
   "id": "d281de62463487e3"
  },
  {
   "metadata": {
    "ExecuteTime": {
     "end_time": "2024-12-30T18:27:18.880458Z",
     "start_time": "2024-12-30T18:26:44.288051Z"
    }
   },
   "cell_type": "code",
   "source": [
    "input_size, output_size, X_train, y_train, X_test, y_test = mnist_utils.from_dataset(digits_train_32k_test_12k)\n",
    "\n",
    "classification_optimizer = SGD(learning_rate=model_utils.BATCH_LEARNING_RATE, momentum=model_utils.MOMENTUM,\n",
    "                               nesterov=model_utils.NESTEROV_MOMENTUM)\n",
    "classification_loss = 'mse'\n",
    "classification_regularizer = L1L2(l1=model_utils.L1_DECAY, l2=model_utils.L2_DECAY)\n",
    "\n",
    "classification_model = Sequential([\n",
    "    Dense(model_utils.CLASSIFICATION_FEATURES[0], activation='gelu', input_shape=(input_size,),\n",
    "          kernel_regularizer=classification_regularizer),\n",
    "    Dense(model_utils.CLASSIFICATION_FEATURES[1], activation='gelu', kernel_regularizer=classification_regularizer),\n",
    "    Dense(output_size, activation='gelu', kernel_regularizer=classification_regularizer)\n",
    "])\n",
    "classification_model.compile(optimizer=classification_optimizer, loss=classification_loss, metrics=['accuracy'])\n",
    "classification_model.fit(X_train, y_train, validation_data=(X_test, y_test), epochs=model_utils.CLASSIFICATION_EPOCHS,\n",
    "                         batch_size=model_utils.BATCH_SIZE)\n",
    "\n",
    "classification_model_predict = lambda X: classification_model.predict(X)\n",
    "\n",
    "print(f'Actual number of parameters: {classification_model.count_params()}')"
   ],
   "id": "602db37c73ffde28",
   "outputs": [
    {
     "name": "stdout",
     "output_type": "stream",
     "text": [
      "Epoch 1/50\n",
      "1125/1125 [==============================] - 1s 700us/step - loss: 0.9440 - accuracy: 0.1228 - val_loss: 0.9334 - val_accuracy: 0.1311\n",
      "Epoch 2/50\n",
      "1125/1125 [==============================] - 1s 609us/step - loss: 0.9232 - accuracy: 0.1357 - val_loss: 0.9133 - val_accuracy: 0.1478\n",
      "Epoch 3/50\n",
      "1125/1125 [==============================] - 1s 620us/step - loss: 0.9037 - accuracy: 0.1570 - val_loss: 0.8942 - val_accuracy: 0.1704\n",
      "Epoch 4/50\n",
      "1125/1125 [==============================] - 1s 599us/step - loss: 0.8849 - accuracy: 0.1799 - val_loss: 0.8758 - val_accuracy: 0.1946\n",
      "Epoch 5/50\n",
      "1125/1125 [==============================] - 1s 609us/step - loss: 0.8668 - accuracy: 0.2062 - val_loss: 0.8578 - val_accuracy: 0.2223\n",
      "Epoch 6/50\n",
      "1125/1125 [==============================] - 1s 608us/step - loss: 0.8490 - accuracy: 0.2335 - val_loss: 0.8402 - val_accuracy: 0.2503\n",
      "Epoch 7/50\n",
      "1125/1125 [==============================] - 1s 603us/step - loss: 0.8316 - accuracy: 0.2627 - val_loss: 0.8230 - val_accuracy: 0.2826\n",
      "Epoch 8/50\n",
      "1125/1125 [==============================] - 1s 602us/step - loss: 0.8145 - accuracy: 0.2921 - val_loss: 0.8061 - val_accuracy: 0.3122\n",
      "Epoch 9/50\n",
      "1125/1125 [==============================] - 1s 604us/step - loss: 0.7977 - accuracy: 0.3231 - val_loss: 0.7895 - val_accuracy: 0.3403\n",
      "Epoch 10/50\n",
      "1125/1125 [==============================] - 1s 602us/step - loss: 0.7813 - accuracy: 0.3538 - val_loss: 0.7732 - val_accuracy: 0.3700\n",
      "Epoch 11/50\n",
      "1125/1125 [==============================] - 1s 599us/step - loss: 0.7651 - accuracy: 0.3825 - val_loss: 0.7572 - val_accuracy: 0.4008\n",
      "Epoch 12/50\n",
      "1125/1125 [==============================] - 1s 597us/step - loss: 0.7493 - accuracy: 0.4076 - val_loss: 0.7415 - val_accuracy: 0.4237\n",
      "Epoch 13/50\n",
      "1125/1125 [==============================] - 1s 599us/step - loss: 0.7337 - accuracy: 0.4276 - val_loss: 0.7260 - val_accuracy: 0.4422\n",
      "Epoch 14/50\n",
      "1125/1125 [==============================] - 1s 597us/step - loss: 0.7184 - accuracy: 0.4440 - val_loss: 0.7109 - val_accuracy: 0.4577\n",
      "Epoch 15/50\n",
      "1125/1125 [==============================] - 1s 595us/step - loss: 0.7034 - accuracy: 0.4607 - val_loss: 0.6960 - val_accuracy: 0.4712\n",
      "Epoch 16/50\n",
      "1125/1125 [==============================] - 1s 591us/step - loss: 0.6886 - accuracy: 0.4733 - val_loss: 0.6814 - val_accuracy: 0.4813\n",
      "Epoch 17/50\n",
      "1125/1125 [==============================] - 1s 600us/step - loss: 0.6742 - accuracy: 0.4842 - val_loss: 0.6671 - val_accuracy: 0.4917\n",
      "Epoch 18/50\n",
      "1125/1125 [==============================] - 1s 597us/step - loss: 0.6599 - accuracy: 0.4959 - val_loss: 0.6530 - val_accuracy: 0.4988\n",
      "Epoch 19/50\n",
      "1125/1125 [==============================] - 1s 597us/step - loss: 0.6460 - accuracy: 0.5059 - val_loss: 0.6392 - val_accuracy: 0.5080\n",
      "Epoch 20/50\n",
      "1125/1125 [==============================] - 1s 595us/step - loss: 0.6323 - accuracy: 0.5147 - val_loss: 0.6256 - val_accuracy: 0.5175\n",
      "Epoch 21/50\n",
      "1125/1125 [==============================] - 1s 606us/step - loss: 0.6188 - accuracy: 0.5214 - val_loss: 0.6122 - val_accuracy: 0.5248\n",
      "Epoch 22/50\n",
      "1125/1125 [==============================] - 1s 607us/step - loss: 0.6056 - accuracy: 0.5293 - val_loss: 0.5991 - val_accuracy: 0.5311\n",
      "Epoch 23/50\n",
      "1125/1125 [==============================] - 1s 599us/step - loss: 0.5926 - accuracy: 0.5360 - val_loss: 0.5862 - val_accuracy: 0.5370\n",
      "Epoch 24/50\n",
      "1125/1125 [==============================] - 1s 600us/step - loss: 0.5798 - accuracy: 0.5424 - val_loss: 0.5736 - val_accuracy: 0.5413\n",
      "Epoch 25/50\n",
      "1125/1125 [==============================] - 1s 606us/step - loss: 0.5673 - accuracy: 0.5481 - val_loss: 0.5612 - val_accuracy: 0.5469\n",
      "Epoch 26/50\n",
      "1125/1125 [==============================] - 1s 602us/step - loss: 0.5550 - accuracy: 0.5539 - val_loss: 0.5490 - val_accuracy: 0.5533\n",
      "Epoch 27/50\n",
      "1125/1125 [==============================] - 1s 599us/step - loss: 0.5429 - accuracy: 0.5589 - val_loss: 0.5370 - val_accuracy: 0.5587\n",
      "Epoch 28/50\n",
      "1125/1125 [==============================] - 1s 605us/step - loss: 0.5310 - accuracy: 0.5638 - val_loss: 0.5253 - val_accuracy: 0.5637\n",
      "Epoch 29/50\n",
      "1125/1125 [==============================] - 1s 605us/step - loss: 0.5194 - accuracy: 0.5684 - val_loss: 0.5138 - val_accuracy: 0.5674\n",
      "Epoch 30/50\n",
      "1125/1125 [==============================] - 1s 610us/step - loss: 0.5080 - accuracy: 0.5721 - val_loss: 0.5025 - val_accuracy: 0.5703\n",
      "Epoch 31/50\n",
      "1125/1125 [==============================] - 1s 599us/step - loss: 0.4968 - accuracy: 0.5768 - val_loss: 0.4914 - val_accuracy: 0.5752\n",
      "Epoch 32/50\n",
      "1125/1125 [==============================] - 1s 596us/step - loss: 0.4858 - accuracy: 0.5808 - val_loss: 0.4805 - val_accuracy: 0.5793\n",
      "Epoch 33/50\n",
      "1125/1125 [==============================] - 1s 598us/step - loss: 0.4750 - accuracy: 0.5837 - val_loss: 0.4698 - val_accuracy: 0.5821\n",
      "Epoch 34/50\n",
      "1125/1125 [==============================] - 1s 604us/step - loss: 0.4644 - accuracy: 0.5866 - val_loss: 0.4593 - val_accuracy: 0.5858\n",
      "Epoch 35/50\n",
      "1125/1125 [==============================] - 1s 624us/step - loss: 0.4540 - accuracy: 0.5894 - val_loss: 0.4490 - val_accuracy: 0.5897\n",
      "Epoch 36/50\n",
      "1125/1125 [==============================] - 1s 612us/step - loss: 0.4439 - accuracy: 0.5920 - val_loss: 0.4390 - val_accuracy: 0.5938\n",
      "Epoch 37/50\n",
      "1125/1125 [==============================] - 1s 599us/step - loss: 0.4339 - accuracy: 0.5945 - val_loss: 0.4291 - val_accuracy: 0.5970\n",
      "Epoch 38/50\n",
      "1125/1125 [==============================] - 1s 604us/step - loss: 0.4242 - accuracy: 0.5970 - val_loss: 0.4195 - val_accuracy: 0.5986\n",
      "Epoch 39/50\n",
      "1125/1125 [==============================] - 1s 598us/step - loss: 0.4146 - accuracy: 0.5998 - val_loss: 0.4101 - val_accuracy: 0.6008\n",
      "Epoch 40/50\n",
      "1125/1125 [==============================] - 1s 606us/step - loss: 0.4053 - accuracy: 0.6025 - val_loss: 0.4008 - val_accuracy: 0.6033\n",
      "Epoch 41/50\n",
      "1125/1125 [==============================] - 1s 604us/step - loss: 0.3962 - accuracy: 0.6050 - val_loss: 0.3918 - val_accuracy: 0.6048\n",
      "Epoch 42/50\n",
      "1125/1125 [==============================] - 1s 614us/step - loss: 0.3873 - accuracy: 0.6065 - val_loss: 0.3830 - val_accuracy: 0.6066\n",
      "Epoch 43/50\n",
      "1125/1125 [==============================] - 1s 607us/step - loss: 0.3785 - accuracy: 0.6079 - val_loss: 0.3743 - val_accuracy: 0.6082\n",
      "Epoch 44/50\n",
      "1125/1125 [==============================] - 1s 601us/step - loss: 0.3700 - accuracy: 0.6095 - val_loss: 0.3659 - val_accuracy: 0.6089\n",
      "Epoch 45/50\n",
      "1125/1125 [==============================] - 1s 611us/step - loss: 0.3616 - accuracy: 0.6109 - val_loss: 0.3576 - val_accuracy: 0.6098\n",
      "Epoch 46/50\n",
      "1125/1125 [==============================] - 1s 618us/step - loss: 0.3535 - accuracy: 0.6120 - val_loss: 0.3496 - val_accuracy: 0.6107\n",
      "Epoch 47/50\n",
      "1125/1125 [==============================] - 1s 612us/step - loss: 0.3455 - accuracy: 0.6128 - val_loss: 0.3417 - val_accuracy: 0.6109\n",
      "Epoch 48/50\n",
      "1125/1125 [==============================] - 1s 610us/step - loss: 0.3377 - accuracy: 0.6139 - val_loss: 0.3341 - val_accuracy: 0.6130\n",
      "Epoch 49/50\n",
      "1125/1125 [==============================] - 1s 603us/step - loss: 0.3302 - accuracy: 0.6144 - val_loss: 0.3266 - val_accuracy: 0.6132\n",
      "Epoch 50/50\n",
      "1125/1125 [==============================] - 1s 600us/step - loss: 0.3228 - accuracy: 0.6150 - val_loss: 0.3193 - val_accuracy: 0.6138\n",
      "Actual number of parameters: 16175\n"
     ]
    }
   ],
   "execution_count": 3
  },
  {
   "metadata": {
    "ExecuteTime": {
     "end_time": "2024-12-30T18:36:07.470384Z",
     "start_time": "2024-12-30T18:36:06.530202Z"
    }
   },
   "cell_type": "code",
   "source": [
    "_, _, X_train, y_train, X_test, y_test = mnist_utils.from_dataset(digits_train_32k_test_12k)\n",
    "\n",
    "print(f'Accuracy on training set: {model_utils.calculate_accuracy(classification_model_predict, X_train, y_train)}')\n",
    "print(f'Accuracy on test set: {model_utils.calculate_accuracy(classification_model_predict, X_test, y_test)}')\n",
    "\n",
    "random_test_indices = np.random.choice(X_test.shape[0], 5, replace=False)\n",
    "print(f'Random test indices: {random_test_indices}')\n",
    "\n",
    "mnist_utils.plot_images(X_test[random_test_indices], image_size=image_size, cmap='gray')\n",
    "print(f'Actual labels of random test indices: {np.argmax(y_test[random_test_indices], axis=1)}')\n",
    "\n",
    "predicted = classification_model_predict(X_test[random_test_indices])\n",
    "print(f'Predicted labels of random test indices: {np.argmax(predicted, axis=1)}')\n",
    "predicted.round(2).astype('str')"
   ],
   "id": "7c2ea7100031339c",
   "outputs": [
    {
     "name": "stdout",
     "output_type": "stream",
     "text": [
      "1125/1125 [==============================] - 0s 349us/step\n",
      "Accuracy on training set: 0.6152777777777778\n",
      "375/375 [==============================] - 0s 343us/step\n",
      "Accuracy on test set: 0.6138333333333333\n",
      "Random test indices: [11890  7796  1979  3554 10223]\n"
     ]
    },
    {
     "data": {
      "text/plain": [
       "<Figure size 640x480 with 5 Axes>"
      ],
      "image/png": "[encoded data removed]"
     },
     "metadata": {},
     "output_type": "display_data"
    },
    {
     "name": "stdout",
     "output_type": "stream",
     "text": [
      "Actual labels of random test indices: [8 9 6 9 3]\n",
      "1/1 [==============================] - 0s 38ms/step\n",
      "Predicted labels of random test indices: [1 9 2 9 3]\n"
     ]
    },
    {
     "data": {
      "text/plain": [
       "array([['0.03', '0.18', '0.1', '0.1', '0.11', '0.09', '0.08', '0.14',\n",
       "        '0.17', '0.1'],\n",
       "       ['-0.02', '0.15', '-0.01', '0.07', '0.17', '0.08', '0.04', '0.12',\n",
       "        '0.12', '0.18'],\n",
       "       ['0.26', '0.1', '0.26', '0.12', '0.09', '0.01', '0.2', '0.05',\n",
       "        '0.03', '0.01'],\n",
       "       ['-0.03', '0.14', '-0.02', '0.07', '0.16', '0.08', '0.05', '0.16',\n",
       "        '0.15', '0.21'],\n",
       "       ['0.08', '0.07', '-0.0', '0.27', '-0.01', '0.15', '0.09', '-0.05',\n",
       "        '0.14', '0.11']], dtype='<U32')"
      ]
     },
     "execution_count": 4,
     "metadata": {},
     "output_type": "execute_result"
    }
   ],
   "execution_count": 4
  },
  {
   "metadata": {},
   "cell_type": "markdown",
   "source": [
    "## Dimensionality Reduction with an Autoencoder\n",
    "\n",
    "This section demonstrates the use of two neural networks for dimensionality reduction. These networks rely on a bottleneck layer in their architecture to reduce the input data's dimensionality.\n",
    "\n",
    "Instead of using predefined methods to extract the most relevant features, the networks are trained using backpropagation. This approach enables the model to automatically learn a transformation into a compressed feature space along with its inverse transformation to reconstruct the input data as accurately as possible."
   ],
   "id": "14d02d0de03b9351"
  },
  {
   "metadata": {},
   "cell_type": "markdown",
   "source": [
    "### Shallow Autoencoder Network with 12 Neurons Bottleneck Layer\n",
    "\n",
    "This model is configured as follows:\n",
    "\n",
    "- **Architecture**:\n",
    "  - Input layer: 784 neurons\n",
    "  - 5 hidden layers:\n",
    "    - Layer 1: 196 neurons\n",
    "    - Layer 2: 49 neurons\n",
    "    - Layer 3: 12 neurons\n",
    "    - Layer 4: 49 neurons\n",
    "    - Layer 5: 196 neurons\n",
    "  - Output layer: 784 neurons\n",
    "  - Total parameters: 328998 (Biases included)\n",
    "- **Activation Function**: Gaussian Error Linear Unit (GeLU)\n",
    "- **Optimizer**: Stochastic Gradient Descent (SGD)\n",
    "  - Learning rate: 0.02\n",
    "  - Momentum: 0.2 with Nesterov term\n",
    "  - L1-weight-decay: 0.001\n",
    "  - L2-weight-decay: 0.001\n",
    "- **Loss Function**: Mean Squared Error (MSE)"
   ],
   "id": "33f569bb0aac8140"
  },
  {
   "metadata": {
    "ExecuteTime": {
     "end_time": "2024-12-30T19:00:04.891521Z",
     "start_time": "2024-12-30T18:36:14.947157Z"
    }
   },
   "cell_type": "code",
   "source": [
    "input_size, _, X_train, _, X_test, _ = mnist_utils.from_dataset(digits_input_reconstruction)\n",
    "\n",
    "autoencoder_optimizer = SGD(learning_rate=model_utils.BATCH_LEARNING_RATE, momentum=model_utils.MOMENTUM,\n",
    "                            nesterov=model_utils.NESTEROV_MOMENTUM)\n",
    "autoencoder_loss = 'mse'\n",
    "autoencoder_regularizer = L1L2(l1=model_utils.L1_DECAY, l2=model_utils.L2_DECAY)\n",
    "\n",
    "autoencoder_model = Sequential([\n",
    "    Dense(model_utils.AUTOENCODER_FEATURES[0], activation='gelu', input_shape=(input_size,),\n",
    "          kernel_regularizer=autoencoder_regularizer),\n",
    "    Dense(model_utils.AUTOENCODER_FEATURES[1], activation='gelu', kernel_regularizer=autoencoder_regularizer),\n",
    "    Dense(model_utils.AUTOENCODER_FEATURES[2], activation='gelu', kernel_regularizer=autoencoder_regularizer),\n",
    "    Dense(model_utils.AUTOENCODER_FEATURES[3], activation='gelu', kernel_regularizer=autoencoder_regularizer),\n",
    "    Dense(model_utils.AUTOENCODER_FEATURES[4], activation='gelu', kernel_regularizer=autoencoder_regularizer),\n",
    "    Dense(input_size, activation='gelu', kernel_regularizer=autoencoder_regularizer)\n",
    "])\n",
    "autoencoder_model.compile(optimizer=autoencoder_optimizer, loss=autoencoder_loss, metrics=[ssim_metric])\n",
    "autoencoder_model.fit(X_train, X_train, validation_data=(X_test, X_test), epochs=model_utils.AUTOENCODER_EPOCHS,\n",
    "                      batch_size=model_utils.BATCH_SIZE)\n",
    "\n",
    "autoencoder_model_predict = lambda X: autoencoder_model.predict(X)\n",
    "\n",
    "print(f'Actual number of parameters: {autoencoder_model.count_params()}')"
   ],
   "id": "54e122105e073306",
   "outputs": [
    {
     "name": "stdout",
     "output_type": "stream",
     "text": [
      "Epoch 1/100\n",
      "1500/1500 [==============================] - 13s 8ms/step - loss: 14.4412 - ssim_metric: 0.0971 - val_loss: 14.2169 - val_ssim_metric: 0.0972\n",
      "Epoch 2/100\n",
      "1500/1500 [==============================] - 14s 9ms/step - loss: 13.9964 - ssim_metric: 0.0977 - val_loss: 13.7759 - val_ssim_metric: 0.0977\n",
      "Epoch 3/100\n",
      "1500/1500 [==============================] - 12s 8ms/step - loss: 13.5591 - ssim_metric: 0.0981 - val_loss: 13.3425 - val_ssim_metric: 0.0982\n",
      "Epoch 4/100\n",
      "1500/1500 [==============================] - 12s 8ms/step - loss: 13.1295 - ssim_metric: 0.0986 - val_loss: 12.9166 - val_ssim_metric: 0.0986\n",
      "Epoch 5/100\n",
      "1500/1500 [==============================] - 12s 8ms/step - loss: 12.7074 - ssim_metric: 0.0989 - val_loss: 12.4982 - val_ssim_metric: 0.0989\n",
      "Epoch 6/100\n",
      "1500/1500 [==============================] - 12s 8ms/step - loss: 12.2927 - ssim_metric: 0.0992 - val_loss: 12.0873 - val_ssim_metric: 0.0992\n",
      "Epoch 7/100\n",
      "1500/1500 [==============================] - 15s 10ms/step - loss: 11.8855 - ssim_metric: 0.0995 - val_loss: 11.6838 - val_ssim_metric: 0.0994\n",
      "Epoch 8/100\n",
      "1500/1500 [==============================] - 15s 10ms/step - loss: 11.4858 - ssim_metric: 0.0997 - val_loss: 11.2878 - val_ssim_metric: 0.0996\n",
      "Epoch 9/100\n",
      "1500/1500 [==============================] - 15s 10ms/step - loss: 11.0935 - ssim_metric: 0.0999 - val_loss: 10.8992 - val_ssim_metric: 0.0998\n",
      "Epoch 10/100\n",
      "1500/1500 [==============================] - 15s 10ms/step - loss: 10.7086 - ssim_metric: 0.1000 - val_loss: 10.5180 - val_ssim_metric: 0.0999\n",
      "Epoch 11/100\n",
      "1500/1500 [==============================] - 15s 10ms/step - loss: 10.3310 - ssim_metric: 0.1001 - val_loss: 10.1442 - val_ssim_metric: 0.1000\n",
      "Epoch 12/100\n",
      "1500/1500 [==============================] - 15s 10ms/step - loss: 9.9609 - ssim_metric: 0.1002 - val_loss: 9.7778 - val_ssim_metric: 0.1000\n",
      "Epoch 13/100\n",
      "1500/1500 [==============================] - 15s 10ms/step - loss: 9.5982 - ssim_metric: 0.1002 - val_loss: 9.4188 - val_ssim_metric: 0.1001\n",
      "Epoch 14/100\n",
      "1500/1500 [==============================] - 15s 10ms/step - loss: 9.2430 - ssim_metric: 0.1002 - val_loss: 9.0673 - val_ssim_metric: 0.1001\n",
      "Epoch 15/100\n",
      "1500/1500 [==============================] - 15s 10ms/step - loss: 8.8952 - ssim_metric: 0.1002 - val_loss: 8.7232 - val_ssim_metric: 0.1001\n",
      "Epoch 16/100\n",
      "1500/1500 [==============================] - 15s 10ms/step - loss: 8.5547 - ssim_metric: 0.1002 - val_loss: 8.3864 - val_ssim_metric: 0.1000\n",
      "Epoch 17/100\n",
      "1500/1500 [==============================] - 15s 10ms/step - loss: 8.2216 - ssim_metric: 0.1001 - val_loss: 8.0570 - val_ssim_metric: 0.0999\n",
      "Epoch 18/100\n",
      "1500/1500 [==============================] - 15s 10ms/step - loss: 7.8958 - ssim_metric: 0.1000 - val_loss: 7.7349 - val_ssim_metric: 0.0999\n",
      "Epoch 19/100\n",
      "1500/1500 [==============================] - 15s 10ms/step - loss: 7.5775 - ssim_metric: 0.0999 - val_loss: 7.4202 - val_ssim_metric: 0.0998\n",
      "Epoch 20/100\n",
      "1500/1500 [==============================] - 15s 10ms/step - loss: 7.2665 - ssim_metric: 0.0998 - val_loss: 7.1129 - val_ssim_metric: 0.0996\n",
      "Epoch 21/100\n",
      "1500/1500 [==============================] - 15s 10ms/step - loss: 6.9628 - ssim_metric: 0.0997 - val_loss: 6.8128 - val_ssim_metric: 0.0995\n",
      "Epoch 22/100\n",
      "1500/1500 [==============================] - 15s 10ms/step - loss: 6.6664 - ssim_metric: 0.0995 - val_loss: 6.5202 - val_ssim_metric: 0.0993\n",
      "Epoch 23/100\n",
      "1500/1500 [==============================] - 15s 10ms/step - loss: 6.3774 - ssim_metric: 0.0994 - val_loss: 6.2347 - val_ssim_metric: 0.0992\n",
      "Epoch 24/100\n",
      "1500/1500 [==============================] - 15s 10ms/step - loss: 6.0955 - ssim_metric: 0.0992 - val_loss: 5.9565 - val_ssim_metric: 0.0990\n",
      "Epoch 25/100\n",
      "1500/1500 [==============================] - 15s 10ms/step - loss: 5.8209 - ssim_metric: 0.0990 - val_loss: 5.6856 - val_ssim_metric: 0.0988\n",
      "Epoch 26/100\n",
      "1500/1500 [==============================] - 15s 10ms/step - loss: 5.5537 - ssim_metric: 0.0988 - val_loss: 5.4220 - val_ssim_metric: 0.0986\n",
      "Epoch 27/100\n",
      "1500/1500 [==============================] - 15s 10ms/step - loss: 5.2937 - ssim_metric: 0.0986 - val_loss: 5.1656 - val_ssim_metric: 0.0984\n",
      "Epoch 28/100\n",
      "1500/1500 [==============================] - 15s 10ms/step - loss: 5.0409 - ssim_metric: 0.0984 - val_loss: 4.9163 - val_ssim_metric: 0.0981\n",
      "Epoch 29/100\n",
      "1500/1500 [==============================] - 15s 10ms/step - loss: 4.7951 - ssim_metric: 0.0981 - val_loss: 4.6741 - val_ssim_metric: 0.0979\n",
      "Epoch 30/100\n",
      "1500/1500 [==============================] - 15s 10ms/step - loss: 4.5565 - ssim_metric: 0.0979 - val_loss: 4.4390 - val_ssim_metric: 0.0976\n",
      "Epoch 31/100\n",
      "1500/1500 [==============================] - 15s 10ms/step - loss: 4.3249 - ssim_metric: 0.0976 - val_loss: 4.2110 - val_ssim_metric: 0.0974\n",
      "Epoch 32/100\n",
      "1500/1500 [==============================] - 15s 10ms/step - loss: 4.1005 - ssim_metric: 0.0973 - val_loss: 3.9901 - val_ssim_metric: 0.0971\n",
      "Epoch 33/100\n",
      "1500/1500 [==============================] - 15s 10ms/step - loss: 3.8830 - ssim_metric: 0.0971 - val_loss: 3.7761 - val_ssim_metric: 0.0968\n",
      "Epoch 34/100\n",
      "1500/1500 [==============================] - 15s 10ms/step - loss: 3.6725 - ssim_metric: 0.0968 - val_loss: 3.5691 - val_ssim_metric: 0.0966\n",
      "Epoch 35/100\n",
      "1500/1500 [==============================] - 15s 10ms/step - loss: 3.4690 - ssim_metric: 0.0965 - val_loss: 3.3690 - val_ssim_metric: 0.0963\n",
      "Epoch 36/100\n",
      "1500/1500 [==============================] - 15s 10ms/step - loss: 3.2724 - ssim_metric: 0.0962 - val_loss: 3.1760 - val_ssim_metric: 0.0960\n",
      "Epoch 37/100\n",
      "1500/1500 [==============================] - 15s 10ms/step - loss: 3.0828 - ssim_metric: 0.0959 - val_loss: 2.9899 - val_ssim_metric: 0.0957\n",
      "Epoch 38/100\n",
      "1500/1500 [==============================] - 15s 10ms/step - loss: 2.9003 - ssim_metric: 0.0956 - val_loss: 2.8108 - val_ssim_metric: 0.0954\n",
      "Epoch 39/100\n",
      "1500/1500 [==============================] - 15s 10ms/step - loss: 2.7247 - ssim_metric: 0.0953 - val_loss: 2.6386 - val_ssim_metric: 0.0951\n",
      "Epoch 40/100\n",
      "1500/1500 [==============================] - 15s 10ms/step - loss: 2.5559 - ssim_metric: 0.0950 - val_loss: 2.4733 - val_ssim_metric: 0.0947\n",
      "Epoch 41/100\n",
      "1500/1500 [==============================] - 15s 10ms/step - loss: 2.3940 - ssim_metric: 0.0947 - val_loss: 2.3149 - val_ssim_metric: 0.0944\n",
      "Epoch 42/100\n",
      "1500/1500 [==============================] - 15s 10ms/step - loss: 2.2391 - ssim_metric: 0.0943 - val_loss: 2.1634 - val_ssim_metric: 0.0941\n",
      "Epoch 43/100\n",
      "1500/1500 [==============================] - 15s 10ms/step - loss: 2.0910 - ssim_metric: 0.0940 - val_loss: 2.0187 - val_ssim_metric: 0.0938\n",
      "Epoch 44/100\n",
      "1500/1500 [==============================] - 15s 10ms/step - loss: 1.9497 - ssim_metric: 0.0937 - val_loss: 1.8810 - val_ssim_metric: 0.0934\n",
      "Epoch 45/100\n",
      "1500/1500 [==============================] - 15s 10ms/step - loss: 1.8154 - ssim_metric: 0.0933 - val_loss: 1.7501 - val_ssim_metric: 0.0931\n",
      "Epoch 46/100\n",
      "1500/1500 [==============================] - 15s 10ms/step - loss: 1.6879 - ssim_metric: 0.0930 - val_loss: 1.6259 - val_ssim_metric: 0.0928\n",
      "Epoch 47/100\n",
      "1500/1500 [==============================] - 15s 10ms/step - loss: 1.5671 - ssim_metric: 0.0927 - val_loss: 1.5085 - val_ssim_metric: 0.0924\n",
      "Epoch 48/100\n",
      "1500/1500 [==============================] - 15s 10ms/step - loss: 1.4531 - ssim_metric: 0.0923 - val_loss: 1.3978 - val_ssim_metric: 0.0921\n",
      "Epoch 49/100\n",
      "1500/1500 [==============================] - 15s 10ms/step - loss: 1.3458 - ssim_metric: 0.0920 - val_loss: 1.2939 - val_ssim_metric: 0.0917\n",
      "Epoch 50/100\n",
      "1500/1500 [==============================] - 15s 10ms/step - loss: 1.2452 - ssim_metric: 0.0916 - val_loss: 1.1967 - val_ssim_metric: 0.0914\n",
      "Epoch 51/100\n",
      "1500/1500 [==============================] - 15s 10ms/step - loss: 1.1513 - ssim_metric: 0.0913 - val_loss: 1.1062 - val_ssim_metric: 0.0911\n",
      "Epoch 52/100\n",
      "1500/1500 [==============================] - 15s 10ms/step - loss: 1.0642 - ssim_metric: 0.0909 - val_loss: 1.0225 - val_ssim_metric: 0.0907\n",
      "Epoch 53/100\n",
      "1500/1500 [==============================] - 15s 10ms/step - loss: 0.9838 - ssim_metric: 0.0906 - val_loss: 0.9454 - val_ssim_metric: 0.0904\n",
      "Epoch 54/100\n",
      "1500/1500 [==============================] - 15s 10ms/step - loss: 0.9102 - ssim_metric: 0.0902 - val_loss: 0.8751 - val_ssim_metric: 0.0900\n",
      "Epoch 55/100\n",
      "1500/1500 [==============================] - 15s 10ms/step - loss: 0.8432 - ssim_metric: 0.0899 - val_loss: 0.8116 - val_ssim_metric: 0.0897\n",
      "Epoch 56/100\n",
      "1500/1500 [==============================] - 15s 10ms/step - loss: 0.7830 - ssim_metric: 0.0895 - val_loss: 0.7546 - val_ssim_metric: 0.0893\n",
      "Epoch 57/100\n",
      "1500/1500 [==============================] - 15s 10ms/step - loss: 0.7293 - ssim_metric: 0.0892 - val_loss: 0.7042 - val_ssim_metric: 0.0890\n",
      "Epoch 58/100\n",
      "1500/1500 [==============================] - 15s 10ms/step - loss: 0.6821 - ssim_metric: 0.0888 - val_loss: 0.6602 - val_ssim_metric: 0.0886\n",
      "Epoch 59/100\n",
      "1500/1500 [==============================] - 15s 10ms/step - loss: 0.6413 - ssim_metric: 0.0885 - val_loss: 0.6227 - val_ssim_metric: 0.0883\n",
      "Epoch 60/100\n",
      "1500/1500 [==============================] - 14s 9ms/step - loss: 0.6071 - ssim_metric: 0.0881 - val_loss: 0.5917 - val_ssim_metric: 0.0879\n",
      "Epoch 61/100\n",
      "1500/1500 [==============================] - 11s 8ms/step - loss: 0.5794 - ssim_metric: 0.0878 - val_loss: 0.5673 - val_ssim_metric: 0.0876\n",
      "Epoch 62/100\n",
      "1500/1500 [==============================] - 13s 9ms/step - loss: 0.5582 - ssim_metric: 0.0875 - val_loss: 0.5494 - val_ssim_metric: 0.0873\n",
      "Epoch 63/100\n",
      "1500/1500 [==============================] - 15s 10ms/step - loss: 0.5426 - ssim_metric: 0.0871 - val_loss: 0.5351 - val_ssim_metric: 0.0869\n",
      "Epoch 64/100\n",
      "1500/1500 [==============================] - 15s 10ms/step - loss: 0.5285 - ssim_metric: 0.0868 - val_loss: 0.5211 - val_ssim_metric: 0.0866\n",
      "Epoch 65/100\n",
      "1500/1500 [==============================] - 15s 10ms/step - loss: 0.5146 - ssim_metric: 0.0864 - val_loss: 0.5073 - val_ssim_metric: 0.0862\n",
      "Epoch 66/100\n",
      "1500/1500 [==============================] - 15s 10ms/step - loss: 0.5010 - ssim_metric: 0.0861 - val_loss: 0.4938 - val_ssim_metric: 0.0859\n",
      "Epoch 67/100\n",
      "1500/1500 [==============================] - 15s 10ms/step - loss: 0.4876 - ssim_metric: 0.0857 - val_loss: 0.4806 - val_ssim_metric: 0.0855\n",
      "Epoch 68/100\n",
      "1500/1500 [==============================] - 15s 10ms/step - loss: 0.4745 - ssim_metric: 0.0854 - val_loss: 0.4676 - val_ssim_metric: 0.0852\n",
      "Epoch 69/100\n",
      "1500/1500 [==============================] - 15s 10ms/step - loss: 0.4617 - ssim_metric: 0.0850 - val_loss: 0.4549 - val_ssim_metric: 0.0849\n",
      "Epoch 70/100\n",
      "1500/1500 [==============================] - 15s 10ms/step - loss: 0.4491 - ssim_metric: 0.0847 - val_loss: 0.4425 - val_ssim_metric: 0.0845\n",
      "Epoch 71/100\n",
      "1500/1500 [==============================] - 15s 10ms/step - loss: 0.4368 - ssim_metric: 0.0844 - val_loss: 0.4303 - val_ssim_metric: 0.0842\n",
      "Epoch 72/100\n",
      "1500/1500 [==============================] - 15s 10ms/step - loss: 0.4247 - ssim_metric: 0.0840 - val_loss: 0.4183 - val_ssim_metric: 0.0839\n",
      "Epoch 73/100\n",
      "1500/1500 [==============================] - 15s 10ms/step - loss: 0.4129 - ssim_metric: 0.0837 - val_loss: 0.4066 - val_ssim_metric: 0.0835\n",
      "Epoch 74/100\n",
      "1500/1500 [==============================] - 15s 10ms/step - loss: 0.4013 - ssim_metric: 0.0834 - val_loss: 0.3952 - val_ssim_metric: 0.0832\n",
      "Epoch 75/100\n",
      "1500/1500 [==============================] - 15s 10ms/step - loss: 0.3900 - ssim_metric: 0.0830 - val_loss: 0.3840 - val_ssim_metric: 0.0829\n",
      "Epoch 76/100\n",
      "1500/1500 [==============================] - 15s 10ms/step - loss: 0.3790 - ssim_metric: 0.0827 - val_loss: 0.3731 - val_ssim_metric: 0.0826\n",
      "Epoch 77/100\n",
      "1500/1500 [==============================] - 15s 10ms/step - loss: 0.3682 - ssim_metric: 0.0824 - val_loss: 0.3625 - val_ssim_metric: 0.0822\n",
      "Epoch 78/100\n",
      "1500/1500 [==============================] - 15s 10ms/step - loss: 0.3577 - ssim_metric: 0.0821 - val_loss: 0.3521 - val_ssim_metric: 0.0819\n",
      "Epoch 79/100\n",
      "1500/1500 [==============================] - 15s 10ms/step - loss: 0.3475 - ssim_metric: 0.0817 - val_loss: 0.3420 - val_ssim_metric: 0.0816\n",
      "Epoch 80/100\n",
      "1500/1500 [==============================] - 15s 10ms/step - loss: 0.3375 - ssim_metric: 0.0814 - val_loss: 0.3321 - val_ssim_metric: 0.0813\n",
      "Epoch 81/100\n",
      "1500/1500 [==============================] - 15s 10ms/step - loss: 0.3277 - ssim_metric: 0.0811 - val_loss: 0.3225 - val_ssim_metric: 0.0810\n",
      "Epoch 82/100\n",
      "1500/1500 [==============================] - 15s 10ms/step - loss: 0.3182 - ssim_metric: 0.0808 - val_loss: 0.3132 - val_ssim_metric: 0.0807\n",
      "Epoch 83/100\n",
      "1500/1500 [==============================] - 15s 10ms/step - loss: 0.3090 - ssim_metric: 0.0805 - val_loss: 0.3040 - val_ssim_metric: 0.0804\n",
      "Epoch 84/100\n",
      "1500/1500 [==============================] - 15s 10ms/step - loss: 0.3000 - ssim_metric: 0.0802 - val_loss: 0.2952 - val_ssim_metric: 0.0800\n",
      "Epoch 85/100\n",
      "1500/1500 [==============================] - 15s 10ms/step - loss: 0.2913 - ssim_metric: 0.0799 - val_loss: 0.2866 - val_ssim_metric: 0.0797\n",
      "Epoch 86/100\n",
      "1500/1500 [==============================] - 15s 10ms/step - loss: 0.2828 - ssim_metric: 0.0796 - val_loss: 0.2782 - val_ssim_metric: 0.0794\n",
      "Epoch 87/100\n",
      "1500/1500 [==============================] - 15s 10ms/step - loss: 0.2746 - ssim_metric: 0.0793 - val_loss: 0.2701 - val_ssim_metric: 0.0791\n",
      "Epoch 88/100\n",
      "1500/1500 [==============================] - 15s 10ms/step - loss: 0.2666 - ssim_metric: 0.0790 - val_loss: 0.2622 - val_ssim_metric: 0.0788\n",
      "Epoch 89/100\n",
      "1500/1500 [==============================] - 12s 8ms/step - loss: 0.2588 - ssim_metric: 0.0787 - val_loss: 0.2546 - val_ssim_metric: 0.0786\n",
      "Epoch 90/100\n",
      "1500/1500 [==============================] - 12s 8ms/step - loss: 0.2513 - ssim_metric: 0.0784 - val_loss: 0.2472 - val_ssim_metric: 0.0783\n",
      "Epoch 91/100\n",
      "1500/1500 [==============================] - 12s 8ms/step - loss: 0.2441 - ssim_metric: 0.0781 - val_loss: 0.2401 - val_ssim_metric: 0.0780\n",
      "Epoch 92/100\n",
      "1500/1500 [==============================] - 12s 8ms/step - loss: 0.2371 - ssim_metric: 0.0778 - val_loss: 0.2332 - val_ssim_metric: 0.0777\n",
      "Epoch 93/100\n",
      "1500/1500 [==============================] - 12s 8ms/step - loss: 0.2303 - ssim_metric: 0.0775 - val_loss: 0.2266 - val_ssim_metric: 0.0774\n",
      "Epoch 94/100\n",
      "1500/1500 [==============================] - 12s 8ms/step - loss: 0.2238 - ssim_metric: 0.0772 - val_loss: 0.2202 - val_ssim_metric: 0.0771\n",
      "Epoch 95/100\n",
      "1500/1500 [==============================] - 12s 8ms/step - loss: 0.2175 - ssim_metric: 0.0769 - val_loss: 0.2140 - val_ssim_metric: 0.0768\n",
      "Epoch 96/100\n",
      "1500/1500 [==============================] - 12s 8ms/step - loss: 0.2115 - ssim_metric: 0.0767 - val_loss: 0.2081 - val_ssim_metric: 0.0766\n",
      "Epoch 97/100\n",
      "1500/1500 [==============================] - 12s 8ms/step - loss: 0.2057 - ssim_metric: 0.0764 - val_loss: 0.2025 - val_ssim_metric: 0.0763\n",
      "Epoch 98/100\n",
      "1500/1500 [==============================] - 12s 8ms/step - loss: 0.2002 - ssim_metric: 0.0761 - val_loss: 0.1970 - val_ssim_metric: 0.0760\n",
      "Epoch 99/100\n",
      "1500/1500 [==============================] - 13s 9ms/step - loss: 0.1949 - ssim_metric: 0.0758 - val_loss: 0.1919 - val_ssim_metric: 0.0758\n",
      "Epoch 100/100\n",
      "1500/1500 [==============================] - 15s 10ms/step - loss: 0.1899 - ssim_metric: 0.0756 - val_loss: 0.1870 - val_ssim_metric: 0.0755\n",
      "Actual number of parameters: 328998\n"
     ]
    }
   ],
   "execution_count": 5
  },
  {
   "metadata": {
    "ExecuteTime": {
     "end_time": "2024-12-30T19:00:11.885429Z",
     "start_time": "2024-12-30T19:00:09.807129Z"
    }
   },
   "cell_type": "code",
   "source": [
    "_, _, X_train, _, X_test, _ = mnist_utils.from_dataset(digits_input_reconstruction)\n",
    "\n",
    "print(f'Loss X_train: {model_utils.mse_loss(autoencoder_model_predict, X_train, X_train)}')\n",
    "print(f'Loss X_test: {model_utils.mse_loss(autoencoder_model_predict, X_test, X_test)}')\n",
    "\n",
    "random_test_indices = np.random.choice(X_test.shape[0], 5, replace=False)\n",
    "print(f'Random test indices: {random_test_indices}')\n",
    "\n",
    "original = X_test[random_test_indices]\n",
    "mnist_utils.plot_images(original, image_size=image_size, cmap='gray')\n",
    "\n",
    "restored = autoencoder_model_predict(original)\n",
    "mnist_utils.plot_images(restored, image_size=image_size, cmap='gray')"
   ],
   "id": "9d91c2218ebfb2e9",
   "outputs": [
    {
     "name": "stdout",
     "output_type": "stream",
     "text": [
      "1500/1500 [==============================] - 1s 739us/step\n",
      "Loss X_train: 0.1053156927227974\n",
      "375/375 [==============================] - 0s 880us/step\n",
      "Loss X_test: 0.10489105433225632\n",
      "Random test indices: [11524  5194  3729  3197  9430]\n"
     ]
    },
    {
     "data": {
      "text/plain": [
       "<Figure size 640x480 with 5 Axes>"
      ],
      "image/png": "[encoded data removed]"
     },
     "metadata": {},
     "output_type": "display_data"
    },
    {
     "name": "stdout",
     "output_type": "stream",
     "text": [
      "1/1 [==============================] - 0s 51ms/step\n"
     ]
    },
    {
     "data": {
      "text/plain": [
       "<Figure size 640x480 with 5 Axes>"
      ],
      "image/png": "[encoded data removed]"
     },
     "metadata": {},
     "output_type": "display_data"
    }
   ],
   "execution_count": 6
  }
 ],
 "metadata": {
  "kernelspec": {
   "name": "python3",
   "language": "python",
   "display_name": "Python 3 (ipykernel)"
  }
 },
 "nbformat": 4,
 "nbformat_minor": 5
}
