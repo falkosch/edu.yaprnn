{
 "cells": [
  {
   "metadata": {},
   "cell_type": "markdown",
   "source": [
    "# torch: Training Neural Networks for Classification and Dimensionality Reduction\n",
    "\n",
    "This notebook demonstrates example neural network setups for **image classification** and **dimensionality reduction** tasks using `torch`.\n",
    "\n",
    "The examples serve as complement and comparison for exploring neural networks with the `edu.yaprnn` app."
   ],
   "id": "687f876cb13cff3f"
  },
  {
   "metadata": {
    "ExecuteTime": {
     "end_time": "2024-12-27T05:20:17.319385Z",
     "start_time": "2024-12-27T05:20:16.153419Z"
    }
   },
   "cell_type": "code",
   "source": [
    "import numpy as np\n",
    "from sklearn.model_selection import train_test_split\n",
    "\n",
    "import mnist_utils\n",
    "\n",
    "mnist_images, image_size, X, random_x_indices, random_feature_indices, y, labels = mnist_utils.from_mnist_images()\n",
    "\n",
    "digits_train_32k_test_12k = train_test_split(X, y, labels, train_size=0.6, test_size=0.2, random_state=42)\n",
    "digits_images_from_labels = train_test_split(X, y, labels, train_size=0.8, test_size=0.2, random_state=42)\n",
    "digits_input_reconstruction = train_test_split(X, y, labels, train_size=0.8, test_size=0.2, random_state=42)\n",
    "\n",
    "mnist_utils.from_dataset(digits_train_32k_test_12k, explain=True)\n",
    "mnist_utils.from_dataset(digits_images_from_labels, explain=True)\n",
    "mnist_utils.from_dataset(digits_input_reconstruction, explain=True)\n",
    "\n",
    "None"
   ],
   "id": "278cd590e05d58d9",
   "outputs": [
    {
     "name": "stdout",
     "output_type": "stream",
     "text": [
      "Loading MNIST images from E:\\edu.yaprnn\\src\\main\\resources\\digits.idx3-ubyte\n"
     ]
    },
    {
     "data": {
      "text/plain": [
       "<Figure size 100x100 with 1 Axes>"
      ],
      "image/png": "[encoded data removed]"
     },
     "metadata": {},
     "output_type": "display_data"
    },
    {
     "data": {
      "text/plain": [
       "<Figure size 640x480 with 3 Axes>"
      ],
      "image/png": "[encoded data removed]"
     },
     "metadata": {},
     "output_type": "display_data"
    },
    {
     "data": {
      "text/plain": [
       "<Figure size 640x480 with 10 Axes>"
      ],
      "image/png": "[encoded data removed]"
     },
     "metadata": {},
     "output_type": "display_data"
    },
    {
     "name": "stdout",
     "output_type": "stream",
     "text": [
      "(36000, 784) (36000, 10) (36000,) (12000, 784) (12000, 10) (12000,)\n",
      "(48000, 784) (48000, 10) (48000,) (12000, 784) (12000, 10) (12000,)\n",
      "(48000, 784) (48000, 10) (48000,) (12000, 784) (12000, 10) (12000,)\n"
     ]
    }
   ],
   "execution_count": 1
  },
  {
   "metadata": {
    "ExecuteTime": {
     "end_time": "2024-12-27T05:20:20.039449Z",
     "start_time": "2024-12-27T05:20:18.874649Z"
    }
   },
   "cell_type": "code",
   "source": [
    "import torch\n",
    "from sklearn.metrics import accuracy_score\n",
    "from torch.nn import Sequential, Linear, GELU, MSELoss\n",
    "from torch.optim import SGD, AdamW\n",
    "from torch.utils.data import DataLoader, TensorDataset\n",
    "\n",
    "\n",
    "def to_tensor(x):\n",
    "    return torch.tensor(x, dtype=torch.float32).to(device)\n",
    "\n",
    "\n",
    "def count_parameters(_model):\n",
    "    return sum(p.numel() for p in _model.parameters() if p.requires_grad)\n",
    "\n",
    "\n",
    "def calculate_accuracy(_model, x_tensor, y):\n",
    "    with torch.no_grad():\n",
    "        outputs = _model.forward(x_tensor)\n",
    "        _, _predictions_tensor = torch.max(outputs, dim=1)\n",
    "        y_true = np.argmax(y, axis=1)\n",
    "        y_pred = _predictions_tensor.cpu().numpy()\n",
    "        return accuracy_score(y_true, y_pred)\n",
    "\n",
    "\n",
    "def train_model(_model, _epochs, _train_loader, _criterion, _optimizer):\n",
    "    _model.train()\n",
    "    for epoch in range(_epochs):\n",
    "        loss = None\n",
    "        for batch_X_tensor, batch_y_tensor in _train_loader:\n",
    "            _optimizer.zero_grad()\n",
    "            output_tensor = _model.forward(batch_X_tensor)\n",
    "            loss = _criterion(output_tensor, batch_y_tensor)\n",
    "            loss.backward()\n",
    "            _optimizer.step()\n",
    "        if loss is not None:\n",
    "            print(f'Epoch {epoch + 1}/{_epochs}, Loss: {loss.item():.4f}')\n",
    "\n",
    "\n",
    "device_type = 'cuda' if torch.cuda.is_available() else 'cpu'\n",
    "device = torch.device(device_type)\n",
    "print(f'Using device: {device}')\n",
    "\n",
    "preferred_batch_size = 31 * (4 if device_type == 'cuda' else 1)\n",
    "preferred_learning_rate = 0.02 / preferred_batch_size"
   ],
   "id": "17bc846735b6cc90",
   "outputs": [
    {
     "name": "stdout",
     "output_type": "stream",
     "text": [
      "Using device: cuda\n"
     ]
    }
   ],
   "execution_count": 2
  },
  {
   "metadata": {},
   "cell_type": "markdown",
   "source": [
    "## Digits Classification\n",
    "\n",
    "This model is configured as follows:\n",
    "\n",
    "- **Architecture**:\n",
    "  - Input layer: 784 neurons\n",
    "  - 2 hidden layers:\n",
    "    - Layer 1: 20 neurons\n",
    "    - Layer 2: 15 neurons\n",
    "  - Output layer: 10 neurons\n",
    "  - Total parameters: `((784 + 1) * 20) + ((20 + 1) * 15) + ((15 + 1) * 10) = 16175` (Biases included)\n",
    "- **Activation Function**:\n",
    "  - gelu\n",
    "- **Optimizer**: Stochastic Gradient Descent (SGD)\n",
    "  - Learning rate: 0.02\n",
    "  - Momentum: 0.2 with Nesterov term\n",
    "  - L2-weight-decay: 0.001\n",
    "- **Loss Function**: Mean Squared Error (MSE)"
   ],
   "id": "1479fe1ce49e66ae"
  },
  {
   "metadata": {
    "ExecuteTime": {
     "end_time": "2024-12-27T05:20:49.046265Z",
     "start_time": "2024-12-27T05:20:30.230434Z"
    }
   },
   "cell_type": "code",
   "source": [
    "input_size, output_size, X_train, y_train, X_test, y_test = mnist_utils.from_dataset(digits_train_32k_test_12k)\n",
    "X_train_tensor = to_tensor(X_train)\n",
    "y_train_tensor = to_tensor(y_train)\n",
    "X_test_tensor = to_tensor(X_test)\n",
    "\n",
    "train_dataset = TensorDataset(X_train_tensor, y_train_tensor)\n",
    "train_loader = DataLoader(train_dataset, batch_size=preferred_batch_size, shuffle=True)\n",
    "\n",
    "model = Sequential(\n",
    "    Linear(input_size, 20),\n",
    "    GELU(),\n",
    "    Linear(20, 15),\n",
    "    GELU(),\n",
    "    Linear(15, output_size),\n",
    "    GELU()\n",
    ")\n",
    "model.to(device)\n",
    "\n",
    "optimizer = SGD(model.parameters(), lr=preferred_learning_rate, momentum=0.2, nesterov=True, weight_decay=0.001)\n",
    "optimizer = AdamW(model.parameters(), lr=preferred_learning_rate, weight_decay=0.001)\n",
    "\n",
    "train_model(model, _epochs=50, _train_loader=train_loader, _criterion=MSELoss(), _optimizer=optimizer)\n",
    "\n",
    "print(f'Actual number of parameters: {count_parameters(model)}')"
   ],
   "id": "e0c8c04af6060509",
   "outputs": [
    {
     "name": "stdout",
     "output_type": "stream",
     "text": [
      "Epoch 1/50, Loss: 0.0585\n",
      "Epoch 2/50, Loss: 0.0457\n",
      "Epoch 3/50, Loss: 0.0319\n",
      "Epoch 4/50, Loss: 0.0353\n",
      "Epoch 5/50, Loss: 0.0318\n",
      "Epoch 6/50, Loss: 0.0344\n",
      "Epoch 7/50, Loss: 0.0274\n",
      "Epoch 8/50, Loss: 0.0264\n",
      "Epoch 9/50, Loss: 0.0239\n",
      "Epoch 10/50, Loss: 0.0224\n",
      "Epoch 11/50, Loss: 0.0179\n",
      "Epoch 12/50, Loss: 0.0278\n",
      "Epoch 13/50, Loss: 0.0194\n",
      "Epoch 14/50, Loss: 0.0161\n",
      "Epoch 15/50, Loss: 0.0160\n",
      "Epoch 16/50, Loss: 0.0211\n",
      "Epoch 17/50, Loss: 0.0182\n",
      "Epoch 18/50, Loss: 0.0173\n",
      "Epoch 19/50, Loss: 0.0150\n",
      "Epoch 20/50, Loss: 0.0198\n",
      "Epoch 21/50, Loss: 0.0158\n",
      "Epoch 22/50, Loss: 0.0182\n",
      "Epoch 23/50, Loss: 0.0130\n",
      "Epoch 24/50, Loss: 0.0117\n",
      "Epoch 25/50, Loss: 0.0114\n",
      "Epoch 26/50, Loss: 0.0166\n",
      "Epoch 27/50, Loss: 0.0246\n",
      "Epoch 28/50, Loss: 0.0101\n",
      "Epoch 29/50, Loss: 0.0117\n",
      "Epoch 30/50, Loss: 0.0143\n",
      "Epoch 31/50, Loss: 0.0141\n",
      "Epoch 32/50, Loss: 0.0160\n",
      "Epoch 33/50, Loss: 0.0121\n",
      "Epoch 34/50, Loss: 0.0172\n",
      "Epoch 35/50, Loss: 0.0182\n",
      "Epoch 36/50, Loss: 0.0115\n",
      "Epoch 37/50, Loss: 0.0248\n",
      "Epoch 38/50, Loss: 0.0153\n",
      "Epoch 39/50, Loss: 0.0094\n",
      "Epoch 40/50, Loss: 0.0083\n",
      "Epoch 41/50, Loss: 0.0091\n",
      "Epoch 42/50, Loss: 0.0172\n",
      "Epoch 43/50, Loss: 0.0168\n",
      "Epoch 44/50, Loss: 0.0212\n",
      "Epoch 45/50, Loss: 0.0200\n",
      "Epoch 46/50, Loss: 0.0092\n",
      "Epoch 47/50, Loss: 0.0149\n",
      "Epoch 48/50, Loss: 0.0124\n",
      "Epoch 49/50, Loss: 0.0120\n",
      "Epoch 50/50, Loss: 0.0131\n",
      "Actual number of parameters: 16175\n"
     ]
    }
   ],
   "execution_count": 3
  },
  {
   "metadata": {
    "ExecuteTime": {
     "end_time": "2024-12-27T05:20:55.887718Z",
     "start_time": "2024-12-27T05:20:55.868434Z"
    }
   },
   "cell_type": "code",
   "source": [
    "model.eval()\n",
    "print(f'Accuracy on training set: {calculate_accuracy(model, X_train_tensor, y_train)}')\n",
    "print(f'Accuracy on test set: {calculate_accuracy(model, X_test_tensor, y_test)}')\n",
    "\n",
    "random_test_indices = np.random.choice(X_test.shape[0], 5, replace=False)\n",
    "with torch.no_grad():\n",
    "    input_tensor = to_tensor(X_test[random_test_indices])\n",
    "    predicted = model.forward(input_tensor).cpu().numpy()\n",
    "print(np.argmax(predicted, axis=1))\n",
    "predicted.round(2).astype('str')"
   ],
   "id": "70288dbdd1680c73",
   "outputs": [
    {
     "name": "stdout",
     "output_type": "stream",
     "text": [
      "Accuracy on training set: 0.9500555555555555\n",
      "Accuracy on test set: 0.94025\n",
      "[1 5 5 2 1]\n"
     ]
    },
    {
     "data": {
      "text/plain": [
       "array([['-0.01', '1.1', '-0.13', '-0.07', '-0.02', '-0.04', '-0.02',\n",
       "        '0.01', '0.12', '0.0'],\n",
       "       ['-0.02', '-0.01', '-0.05', '0.01', '-0.07', '1.16', '-0.03',\n",
       "        '-0.05', '-0.1', '0.02'],\n",
       "       ['-0.01', '0.0', '-0.01', '-0.13', '-0.01', '1.12', '-0.04',\n",
       "        '-0.05', '0.08', '-0.01'],\n",
       "       ['0.0', '0.0', '1.25', '-0.11', '-0.01', '0.03', '-0.07', '-0.01',\n",
       "        '-0.16', '0.01'],\n",
       "       ['0.0', '1.04', '-0.01', '-0.01', '-0.01', '0.02', '0.0', '-0.02',\n",
       "        '-0.0', '-0.03']], dtype='<U32')"
      ]
     },
     "execution_count": 4,
     "metadata": {},
     "output_type": "execute_result"
    }
   ],
   "execution_count": 4
  },
  {
   "metadata": {
    "ExecuteTime": {
     "end_time": "2024-12-27T05:20:59.400836Z",
     "start_time": "2024-12-27T05:20:59.351843Z"
    }
   },
   "cell_type": "code",
   "source": [
    "mnist_utils.plot_images(X_test[random_test_indices], image_size=image_size, cmap='gray')\n",
    "print(np.argmax(y_test[random_test_indices], axis=1))\n",
    "y_test[random_test_indices]"
   ],
   "id": "4b351b6cae9bdd5a",
   "outputs": [
    {
     "data": {
      "text/plain": [
       "<Figure size 640x480 with 5 Axes>"
      ],
      "image/png": "[encoded data removed]"
     },
     "metadata": {},
     "output_type": "display_data"
    },
    {
     "name": "stdout",
     "output_type": "stream",
     "text": [
      "[1 5 5 2 1]\n"
     ]
    },
    {
     "data": {
      "text/plain": [
       "array([[0, 1, 0, 0, 0, 0, 0, 0, 0, 0],\n",
       "       [0, 0, 0, 0, 0, 1, 0, 0, 0, 0],\n",
       "       [0, 0, 0, 0, 0, 1, 0, 0, 0, 0],\n",
       "       [0, 0, 1, 0, 0, 0, 0, 0, 0, 0],\n",
       "       [0, 1, 0, 0, 0, 0, 0, 0, 0, 0]])"
      ]
     },
     "execution_count": 5,
     "metadata": {},
     "output_type": "execute_result"
    }
   ],
   "execution_count": 5
  },
  {
   "metadata": {},
   "cell_type": "markdown",
   "source": [
    "## Dimensionality Reduction with an Autoencoder\n",
    "\n",
    "This section demonstrates the use of two neural networks for dimensionality reduction. These networks rely on a bottleneck layer in their architecture to reduce the input data's dimensionality.\n",
    "\n",
    "Instead of using predefined methods to extract the most relevant features, the networks are trained using backpropagation. This approach enables the model to automatically learn a transformation into a compressed feature space along with its inverse transformation to reconstruct the input data as accurately as possible."
   ],
   "id": "cd563b3e6bbe837"
  },
  {
   "metadata": {},
   "cell_type": "markdown",
   "source": [
    "### Shallow Autoencoder Network with 12 Neurons Bottleneck Layer\n",
    "\n",
    "This model is configured as follows:\n",
    "\n",
    "- **Architecture**:\n",
    "  - Input layer: 784 neurons\n",
    "  - 5 hidden layers:\n",
    "    - Layer 1: 196 neurons\n",
    "    - Layer 2: 49 neurons\n",
    "    - Layer 3: 12 neurons\n",
    "    - Layer 4: 49 neurons\n",
    "    - Layer 5: 196 neurons\n",
    "  - Output layer: 784 neurons\n",
    "  - Total parameters: 328998 (Biases included)\n",
    "- **Activation Function**: Gaussian Error Linear Unit (GeLU)\n",
    "- **Optimizer**: Stochastic Gradient Descent (SGD)\n",
    "  - Learning rate: 0.02\n",
    "  - Momentum: 0.2 with Nesterov term\n",
    "  - L2-weight-decay: 0.001\n",
    "- **Loss Function**: Mean Squared Error (MSE)"
   ],
   "id": "5d66a1e6bdecafe7"
  },
  {
   "metadata": {
    "ExecuteTime": {
     "end_time": "2024-12-27T05:22:31.500426Z",
     "start_time": "2024-12-27T05:21:22.755297Z"
    }
   },
   "cell_type": "code",
   "source": [
    "input_size, output_size, X_train, _, X_test, _ = mnist_utils.from_dataset(digits_input_reconstruction)\n",
    "X_train_tensor = to_tensor(X_train)\n",
    "X_test_tensor = to_tensor(X_test)\n",
    "\n",
    "train_dataset = TensorDataset(X_train_tensor, X_train_tensor)\n",
    "train_loader = DataLoader(train_dataset, batch_size=preferred_batch_size, shuffle=True)\n",
    "\n",
    "model = Sequential(\n",
    "    Linear(input_size, 196),\n",
    "    GELU(),\n",
    "    Linear(196, 49),\n",
    "    GELU(),\n",
    "    Linear(49, 12),\n",
    "    GELU(),\n",
    "    Linear(12, 49),\n",
    "    GELU(),\n",
    "    Linear(49, 196),\n",
    "    GELU(),\n",
    "    Linear(196, input_size),\n",
    "    GELU()\n",
    ")\n",
    "model.to(device)\n",
    "\n",
    "optimizer = SGD(model.parameters(), lr=preferred_learning_rate, momentum=0.2, nesterov=True, weight_decay=0.001)\n",
    "optimizer = AdamW(model.parameters(), lr=preferred_learning_rate, weight_decay=0.001)\n",
    "\n",
    "train_model(model, _epochs=100, _train_loader=train_loader, _criterion=MSELoss(), _optimizer=optimizer)\n",
    "\n",
    "print(f'Actual number of parameters: {count_parameters(model)}')"
   ],
   "id": "db32b0a33435fe7f",
   "outputs": [
    {
     "name": "stdout",
     "output_type": "stream",
     "text": [
      "Epoch 1/100, Loss: 0.0468\n",
      "Epoch 2/100, Loss: 0.0424\n",
      "Epoch 3/100, Loss: 0.0319\n",
      "Epoch 4/100, Loss: 0.0328\n",
      "Epoch 5/100, Loss: 0.0298\n",
      "Epoch 6/100, Loss: 0.0286\n",
      "Epoch 7/100, Loss: 0.0191\n",
      "Epoch 8/100, Loss: 0.0301\n",
      "Epoch 9/100, Loss: 0.0213\n",
      "Epoch 10/100, Loss: 0.0253\n",
      "Epoch 11/100, Loss: 0.0194\n",
      "Epoch 12/100, Loss: 0.0211\n",
      "Epoch 13/100, Loss: 0.0288\n",
      "Epoch 14/100, Loss: 0.0227\n",
      "Epoch 15/100, Loss: 0.0263\n",
      "Epoch 16/100, Loss: 0.0160\n",
      "Epoch 17/100, Loss: 0.0181\n",
      "Epoch 18/100, Loss: 0.0190\n",
      "Epoch 19/100, Loss: 0.0233\n",
      "Epoch 20/100, Loss: 0.0246\n",
      "Epoch 21/100, Loss: 0.0174\n",
      "Epoch 22/100, Loss: 0.0229\n",
      "Epoch 23/100, Loss: 0.0244\n",
      "Epoch 24/100, Loss: 0.0229\n",
      "Epoch 25/100, Loss: 0.0209\n",
      "Epoch 26/100, Loss: 0.0205\n",
      "Epoch 27/100, Loss: 0.0176\n",
      "Epoch 28/100, Loss: 0.0234\n",
      "Epoch 29/100, Loss: 0.0156\n",
      "Epoch 30/100, Loss: 0.0202\n",
      "Epoch 31/100, Loss: 0.0162\n",
      "Epoch 32/100, Loss: 0.0212\n",
      "Epoch 33/100, Loss: 0.0186\n",
      "Epoch 34/100, Loss: 0.0228\n",
      "Epoch 35/100, Loss: 0.0145\n",
      "Epoch 36/100, Loss: 0.0223\n",
      "Epoch 37/100, Loss: 0.0201\n",
      "Epoch 38/100, Loss: 0.0147\n",
      "Epoch 39/100, Loss: 0.0222\n",
      "Epoch 40/100, Loss: 0.0182\n",
      "Epoch 41/100, Loss: 0.0151\n",
      "Epoch 42/100, Loss: 0.0161\n",
      "Epoch 43/100, Loss: 0.0242\n",
      "Epoch 44/100, Loss: 0.0186\n",
      "Epoch 45/100, Loss: 0.0137\n",
      "Epoch 46/100, Loss: 0.0213\n",
      "Epoch 47/100, Loss: 0.0166\n",
      "Epoch 48/100, Loss: 0.0196\n",
      "Epoch 49/100, Loss: 0.0178\n",
      "Epoch 50/100, Loss: 0.0203\n",
      "Epoch 51/100, Loss: 0.0137\n",
      "Epoch 52/100, Loss: 0.0120\n",
      "Epoch 53/100, Loss: 0.0212\n",
      "Epoch 54/100, Loss: 0.0150\n",
      "Epoch 55/100, Loss: 0.0150\n",
      "Epoch 56/100, Loss: 0.0205\n",
      "Epoch 57/100, Loss: 0.0175\n",
      "Epoch 58/100, Loss: 0.0156\n",
      "Epoch 59/100, Loss: 0.0138\n",
      "Epoch 60/100, Loss: 0.0162\n",
      "Epoch 61/100, Loss: 0.0237\n",
      "Epoch 62/100, Loss: 0.0136\n",
      "Epoch 63/100, Loss: 0.0167\n",
      "Epoch 64/100, Loss: 0.0128\n",
      "Epoch 65/100, Loss: 0.0178\n",
      "Epoch 66/100, Loss: 0.0151\n",
      "Epoch 67/100, Loss: 0.0164\n",
      "Epoch 68/100, Loss: 0.0195\n",
      "Epoch 69/100, Loss: 0.0165\n",
      "Epoch 70/100, Loss: 0.0218\n",
      "Epoch 71/100, Loss: 0.0142\n",
      "Epoch 72/100, Loss: 0.0211\n",
      "Epoch 73/100, Loss: 0.0164\n",
      "Epoch 74/100, Loss: 0.0192\n",
      "Epoch 75/100, Loss: 0.0148\n",
      "Epoch 76/100, Loss: 0.0184\n",
      "Epoch 77/100, Loss: 0.0148\n",
      "Epoch 78/100, Loss: 0.0169\n",
      "Epoch 79/100, Loss: 0.0140\n",
      "Epoch 80/100, Loss: 0.0164\n",
      "Epoch 81/100, Loss: 0.0152\n",
      "Epoch 82/100, Loss: 0.0145\n",
      "Epoch 83/100, Loss: 0.0150\n",
      "Epoch 84/100, Loss: 0.0169\n",
      "Epoch 85/100, Loss: 0.0132\n",
      "Epoch 86/100, Loss: 0.0140\n",
      "Epoch 87/100, Loss: 0.0158\n",
      "Epoch 88/100, Loss: 0.0153\n",
      "Epoch 89/100, Loss: 0.0168\n",
      "Epoch 90/100, Loss: 0.0215\n",
      "Epoch 91/100, Loss: 0.0171\n",
      "Epoch 92/100, Loss: 0.0197\n",
      "Epoch 93/100, Loss: 0.0157\n",
      "Epoch 94/100, Loss: 0.0134\n",
      "Epoch 95/100, Loss: 0.0179\n",
      "Epoch 96/100, Loss: 0.0153\n",
      "Epoch 97/100, Loss: 0.0181\n",
      "Epoch 98/100, Loss: 0.0154\n",
      "Epoch 99/100, Loss: 0.0150\n",
      "Epoch 100/100, Loss: 0.0164\n",
      "Actual number of parameters: 328998\n"
     ]
    }
   ],
   "execution_count": 6
  },
  {
   "metadata": {
    "ExecuteTime": {
     "end_time": "2024-12-27T05:22:32.543456Z",
     "start_time": "2024-12-27T05:22:32.467948Z"
    }
   },
   "cell_type": "code",
   "source": [
    "original = X_test[random_test_indices]\n",
    "mnist_utils.plot_images(original, image_size=image_size, cmap='gray')\n",
    "\n",
    "#print(f'Score X_train: {model.score(X_train, X_train)}')\n",
    "#print(f'Score X_test: {model.score(X_test, X_test)}', )\n",
    "with torch.no_grad():\n",
    "    output_tensor = model.forward(to_tensor(original))\n",
    "    restored = output_tensor.cpu().numpy()\n",
    "mnist_utils.plot_images(restored, image_size=image_size, cmap='gray')"
   ],
   "id": "a1e0a1cb7c073b04",
   "outputs": [
    {
     "data": {
      "text/plain": [
       "<Figure size 640x480 with 5 Axes>"
      ],
      "image/png": "[encoded data removed]"
     },
     "metadata": {},
     "output_type": "display_data"
    },
    {
     "data": {
      "text/plain": [
       "<Figure size 640x480 with 5 Axes>"
      ],
      "image/png": "[encoded data removed]"
     },
     "metadata": {},
     "output_type": "display_data"
    }
   ],
   "execution_count": 7
  }
 ],
 "metadata": {
  "kernelspec": {
   "name": "python3",
   "language": "python",
   "display_name": "Python 3 (ipykernel)"
  }
 },
 "nbformat": 4,
 "nbformat_minor": 5
}
