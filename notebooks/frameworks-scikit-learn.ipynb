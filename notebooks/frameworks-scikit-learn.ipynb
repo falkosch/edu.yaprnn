{
 "cells": [
  {
   "metadata": {},
   "cell_type": "markdown",
   "source": [
    "# scikit-learn: Training Neural Networks for Classification and Dimensionality Reduction\n",
    "\n",
    "This notebook demonstrates example neural network setups for **image classification** and **dimensionality reduction** tasks using `scikit-learn`.\n",
    "\n",
    "The examples serve as complement and comparison for exploring neural networks with the `edu.yaprnn` app."
   ],
   "id": "687f876cb13cff3f"
  },
  {
   "metadata": {
    "ExecuteTime": {
     "end_time": "2025-01-06T16:23:16.018345Z",
     "start_time": "2025-01-06T16:23:14.791182Z"
    }
   },
   "cell_type": "code",
   "source": [
    "from sklearn.model_selection import train_test_split\n",
    "\n",
    "import mnist_utils\n",
    "import model_utils\n",
    "\n",
    "mnist_images, image_size, X, random_x_indices, random_feature_indices, y, labels = mnist_utils.from_mnist_images()\n",
    "\n",
    "digits_train_32k_test_12k = train_test_split(X, y, labels, train_size=0.6, test_size=0.2, random_state=model_utils.SEED)\n",
    "digits_images_from_labels = train_test_split(X, y, labels, train_size=0.8, test_size=0.2, random_state=model_utils.SEED)\n",
    "digits_input_reconstruction = train_test_split(X, y, labels, train_size=0.8, test_size=0.2,\n",
    "                                               random_state=model_utils.SEED)\n",
    "\n",
    "mnist_utils.from_dataset(digits_train_32k_test_12k, explain=True)\n",
    "mnist_utils.from_dataset(digits_images_from_labels, explain=True)\n",
    "mnist_utils.from_dataset(digits_input_reconstruction, explain=True)\n",
    "\n",
    "None"
   ],
   "id": "278cd590e05d58d9",
   "outputs": [
    {
     "name": "stdout",
     "output_type": "stream",
     "text": [
      "Loading MNIST images from E:\\edu.yaprnn\\src\\main\\resources\\digits.idx3-ubyte\n"
     ]
    },
    {
     "data": {
      "text/plain": [
       "<Figure size 100x100 with 1 Axes>"
      ],
      "image/png": "[encoded data removed]"
     },
     "metadata": {},
     "output_type": "display_data"
    },
    {
     "data": {
      "text/plain": [
       "<Figure size 640x480 with 3 Axes>"
      ],
      "image/png": "[encoded data removed]"
     },
     "metadata": {},
     "output_type": "display_data"
    },
    {
     "data": {
      "text/plain": [
       "<Figure size 640x480 with 10 Axes>"
      ],
      "image/png": "[encoded data removed]"
     },
     "metadata": {},
     "output_type": "display_data"
    },
    {
     "name": "stdout",
     "output_type": "stream",
     "text": [
      "(36000, 784) (36000, 10) (36000,) (12000, 784) (12000, 10) (12000,)\n",
      "(48000, 784) (48000, 10) (48000,) (12000, 784) (12000, 10) (12000,)\n",
      "(48000, 784) (48000, 10) (48000,) (12000, 784) (12000, 10) (12000,)\n"
     ]
    }
   ],
   "execution_count": 1
  },
  {
   "metadata": {
    "ExecuteTime": {
     "end_time": "2025-01-06T16:23:17.665681Z",
     "start_time": "2025-01-06T16:23:17.644917Z"
    }
   },
   "cell_type": "code",
   "source": [
    "from sklearn.neural_network import MLPClassifier, MLPRegressor\n",
    "import numpy as np\n",
    "\n",
    "\n",
    "def count_parameters(_model):\n",
    "    count_weights = np.sum([np.prod(w.shape) for w in _model.coefs_])\n",
    "    count_bias = np.sum([np.prod(w.shape) for w in _model.intercepts_])\n",
    "    return count_weights + count_bias"
   ],
   "id": "53a460677f5411a2",
   "outputs": [],
   "execution_count": 2
  },
  {
   "metadata": {},
   "cell_type": "markdown",
   "source": [
    "## Digits Classification\n",
    "\n",
    "This model is configured as follows:\n",
    "\n",
    "- **Architecture**:\n",
    "  - Input layer: 784 neurons (inferred)\n",
    "  - 2 hidden layers:\n",
    "    - Layer 1: 20 neurons\n",
    "    - Layer 2: 15 neurons\n",
    "  - Output layer: 10 neurons (inferred)\n",
    "  - Total parameters: `((784 + 1) * 20) + ((20 + 1) * 15) + ((15 + 1) * 10) = 16175` (Biases included)\n",
    "- **Activation Function**: relu as replacement for gelu (latter not supported by scikit-learn)\n",
    "- **Optimizer**: Stochastic Gradient Descent (SGD)\n",
    "  - Learning rate: 0.02 / 32 (=batch_size)\n",
    "  - Momentum: 0.2 with Nesterov term\n",
    "  - L2-weight-decay: 0.001\n",
    "  - L1-weight-decay: not supported by scikit-learn\n",
    "- **Loss Function**: Mean Squared Error (MSE)"
   ],
   "id": "1479fe1ce49e66ae"
  },
  {
   "metadata": {
    "ExecuteTime": {
     "end_time": "2025-01-06T16:23:30.332043Z",
     "start_time": "2025-01-06T16:23:20.389695Z"
    }
   },
   "cell_type": "code",
   "source": [
    "_, _, X_train, y_train, _, _ = mnist_utils.from_dataset(digits_train_32k_test_12k)\n",
    "\n",
    "classification_model = MLPClassifier(hidden_layer_sizes=tuple(model_utils.CLASSIFICATION_FEATURES), activation='relu',\n",
    "                                     solver='sgd', batch_size=model_utils.BATCH_SIZE,\n",
    "                                     learning_rate_init=model_utils.BATCH_LEARNING_RATE,\n",
    "                                     max_iter=model_utils.CLASSIFICATION_EPOCHS, momentum=model_utils.MOMENTUM,\n",
    "                                     nesterovs_momentum=model_utils.NESTEROV_MOMENTUM, alpha=model_utils.L2_DECAY,\n",
    "                                     random_state=model_utils.SEED, verbose=True)\n",
    "classification_model_predict = lambda X: classification_model.predict_proba(X)\n",
    "\n",
    "classification_model.fit(X_train, y_train)\n",
    "\n",
    "print(f'Actual number of parameters: {count_parameters(classification_model)}')"
   ],
   "id": "e0c8c04af6060509",
   "outputs": [
    {
     "name": "stdout",
     "output_type": "stream",
     "text": [
      "Iteration 1, loss = 4.52139819\n",
      "Iteration 2, loss = 3.34232259\n",
      "Iteration 3, loss = 3.16350515\n",
      "Iteration 4, loss = 2.92066109\n",
      "Iteration 5, loss = 2.66757400\n",
      "Iteration 6, loss = 2.42528865\n",
      "Iteration 7, loss = 2.20159393\n",
      "Iteration 8, loss = 1.99213965\n",
      "Iteration 9, loss = 1.79388989\n",
      "Iteration 10, loss = 1.62013548\n",
      "Iteration 11, loss = 1.48243813\n",
      "Iteration 12, loss = 1.37325200\n",
      "Iteration 13, loss = 1.28915201\n",
      "Iteration 14, loss = 1.22284307\n",
      "Iteration 15, loss = 1.16831211\n",
      "Iteration 16, loss = 1.12291976\n",
      "Iteration 17, loss = 1.08371286\n",
      "Iteration 18, loss = 1.04933093\n",
      "Iteration 19, loss = 1.01892801\n",
      "Iteration 20, loss = 0.99205637\n",
      "Iteration 21, loss = 0.96785248\n",
      "Iteration 22, loss = 0.94582727\n",
      "Iteration 23, loss = 0.92606816\n",
      "Iteration 24, loss = 0.90767629\n",
      "Iteration 25, loss = 0.89093960\n",
      "Iteration 26, loss = 0.87553465\n",
      "Iteration 27, loss = 0.86142720\n",
      "Iteration 28, loss = 0.84837910\n",
      "Iteration 29, loss = 0.83605796\n",
      "Iteration 30, loss = 0.82448322\n",
      "Iteration 31, loss = 0.81373441\n",
      "Iteration 32, loss = 0.80330357\n",
      "Iteration 33, loss = 0.79384689\n",
      "Iteration 34, loss = 0.78464139\n",
      "Iteration 35, loss = 0.77611329\n",
      "Iteration 36, loss = 0.76774873\n",
      "Iteration 37, loss = 0.76024392\n",
      "Iteration 38, loss = 0.75271994\n",
      "Iteration 39, loss = 0.74531405\n",
      "Iteration 40, loss = 0.73867496\n",
      "Iteration 41, loss = 0.73191794\n",
      "Iteration 42, loss = 0.72566086\n",
      "Iteration 43, loss = 0.71919730\n",
      "Iteration 44, loss = 0.71329357\n",
      "Iteration 45, loss = 0.70750022\n",
      "Iteration 46, loss = 0.70175607\n",
      "Iteration 47, loss = 0.69653527\n",
      "Iteration 48, loss = 0.69118388\n",
      "Iteration 49, loss = 0.68602472\n",
      "Iteration 50, loss = 0.68111270\n",
      "Actual number of parameters: 16175\n"
     ]
    },
    {
     "name": "stderr",
     "output_type": "stream",
     "text": [
      "E:\\edu.yaprnn\\notebooks\\.venv\\lib\\site-packages\\sklearn\\neural_network\\_multilayer_perceptron.py:691: ConvergenceWarning: Stochastic Optimizer: Maximum iterations (50) reached and the optimization hasn't converged yet.\n",
      "  warnings.warn(\n"
     ]
    }
   ],
   "execution_count": 3
  },
  {
   "metadata": {
    "ExecuteTime": {
     "end_time": "2025-01-06T16:23:36.132891Z",
     "start_time": "2025-01-06T16:23:36.045639Z"
    }
   },
   "cell_type": "code",
   "source": [
    "_, _, X_train, y_train, X_test, y_test = mnist_utils.from_dataset(digits_train_32k_test_12k)\n",
    "\n",
    "print(f'Accuracy on training set: {model_utils.calculate_accuracy(classification_model_predict, X_train, y_train)}')\n",
    "print(f'Accuracy on test set: {model_utils.calculate_accuracy(classification_model_predict, X_test, y_test)}')\n",
    "\n",
    "random_test_indices = np.random.choice(X_test.shape[0], 5, replace=False)\n",
    "print(f'Random test indices: {random_test_indices}')\n",
    "\n",
    "mnist_utils.plot_images(X_test[random_test_indices], image_size=image_size, cmap='gray')\n",
    "print(f'Actual labels of random test indices: {np.argmax(y_test[random_test_indices], axis=1)}')\n",
    "\n",
    "predicted = classification_model_predict(X_test[random_test_indices])\n",
    "print(f'Predicted labels of random test indices: {np.argmax(predicted, axis=1)}')\n",
    "predicted.round(2).astype('str')"
   ],
   "id": "70288dbdd1680c73",
   "outputs": [
    {
     "name": "stdout",
     "output_type": "stream",
     "text": [
      "Accuracy on training set: 0.9063333333333333\n",
      "Accuracy on test set: 0.9059166666666667\n",
      "Random test indices: [ 2050  4746 11802  9692 11268]\n"
     ]
    },
    {
     "data": {
      "text/plain": [
       "<Figure size 640x480 with 5 Axes>"
      ],
      "image/png": "[encoded data removed]"
     },
     "metadata": {},
     "output_type": "display_data"
    },
    {
     "name": "stdout",
     "output_type": "stream",
     "text": [
      "Actual labels of random test indices: [6 5 6 2 0]\n",
      "Predicted labels of random test indices: [6 5 6 2 0]\n"
     ]
    },
    {
     "data": {
      "text/plain": [
       "array([['0.0', '0.0', '0.01', '0.0', '0.01', '0.02', '1.0', '0.0',\n",
       "        '0.01', '0.0'],\n",
       "       ['0.04', '0.0', '0.0', '0.0', '0.02', '0.97', '0.01', '0.01',\n",
       "        '0.02', '0.01'],\n",
       "       ['0.0', '0.0', '0.27', '0.0', '0.0', '0.02', '0.97', '0.0',\n",
       "        '0.01', '0.0'],\n",
       "       ['0.0', '0.04', '0.95', '0.01', '0.0', '0.0', '0.01', '0.0',\n",
       "        '0.0', '0.0'],\n",
       "       ['0.96', '0.0', '0.02', '0.0', '0.0', '0.01', '0.0', '0.0',\n",
       "        '0.01', '0.0']], dtype='<U32')"
      ]
     },
     "execution_count": 4,
     "metadata": {},
     "output_type": "execute_result"
    }
   ],
   "execution_count": 4
  },
  {
   "metadata": {},
   "cell_type": "markdown",
   "source": [
    "## Dimensionality Reduction with an Autoencoder\n",
    "\n",
    "This section demonstrates the use of two neural networks for dimensionality reduction. These networks rely on a bottleneck layer in their architecture to reduce the input data's dimensionality.\n",
    "\n",
    "Instead of using predefined methods to extract the most relevant features, the networks are trained using backpropagation. This approach enables the model to automatically learn a transformation into a compressed feature space along with its inverse transformation to reconstruct the input data as accurately as possible."
   ],
   "id": "95330befa47b478b"
  },
  {
   "metadata": {},
   "cell_type": "markdown",
   "source": [
    "### Autoencoder Network with 12 Neurons Bottleneck Layer\n",
    "\n",
    "This model is configured as follows:\n",
    "\n",
    "- **Architecture**:\n",
    "  - Input layer: 784 neurons\n",
    "  - 5 hidden layers:\n",
    "    - Layer 1: 196 neurons\n",
    "    - Layer 2: 49 neurons\n",
    "    - Layer 3: 12 neurons\n",
    "    - Layer 4: 49 neurons\n",
    "    - Layer 5: 196 neurons\n",
    "  - Output layer: 784 neurons\n",
    "  - Total parameters: 328998 (Biases included)\n",
    "- **Activation Function**: relu as replacement for gelu (latter not supported by scikit-learn)\n",
    "- **Optimizer**: Stochastic Gradient Descent (SGD)\n",
    "  - Learning rate: 0.02 / 32 (=batch_size)\n",
    "  - Momentum: 0.2 with Nesterov term\n",
    "  - L2-weight-decay: 0.001\n",
    "  - L1-weight-decay: not supported by scikit-learn\n",
    "- **Loss Function**: Mean Squared Error (MSE)"
   ],
   "id": "bc0350c6c671dcac"
  },
  {
   "metadata": {
    "ExecuteTime": {
     "end_time": "2025-01-06T16:25:31.246644Z",
     "start_time": "2025-01-06T16:23:41.749557Z"
    }
   },
   "cell_type": "code",
   "source": [
    "_, _, X_train, _, _, _ = mnist_utils.from_dataset(digits_input_reconstruction)\n",
    "\n",
    "autoencoder_model = MLPRegressor(hidden_layer_sizes=tuple(model_utils.AUTOENCODER_FEATURES), activation='relu',\n",
    "                                 solver='sgd',\n",
    "                                 batch_size=model_utils.BATCH_SIZE, learning_rate_init=model_utils.BATCH_LEARNING_RATE,\n",
    "                                 max_iter=model_utils.AUTOENCODER_EPOCHS, momentum=model_utils.MOMENTUM,\n",
    "                                 nesterovs_momentum=model_utils.NESTEROV_MOMENTUM, alpha=model_utils.L2_DECAY,\n",
    "                                 random_state=model_utils.SEED, verbose=True)\n",
    "autoencoder_model_predict = lambda X: autoencoder_model.predict(X)\n",
    "\n",
    "autoencoder_model.fit(X_train, X_train)\n",
    "\n",
    "print(f'Actual number of parameters: {count_parameters(autoencoder_model)}')"
   ],
   "id": "9e87055cdc1a381b",
   "outputs": [
    {
     "name": "stdout",
     "output_type": "stream",
     "text": [
      "Iteration 1, loss = 0.04631077\n",
      "Iteration 2, loss = 0.04098155\n",
      "Iteration 3, loss = 0.03662498\n",
      "Iteration 4, loss = 0.03468729\n",
      "Iteration 5, loss = 0.03350047\n",
      "Iteration 6, loss = 0.03295239\n",
      "Iteration 7, loss = 0.03257217\n",
      "Iteration 8, loss = 0.03213003\n",
      "Iteration 9, loss = 0.03176814\n",
      "Iteration 10, loss = 0.03150502\n",
      "Iteration 11, loss = 0.03127730\n",
      "Iteration 12, loss = 0.03106330\n",
      "Iteration 13, loss = 0.03085956\n",
      "Iteration 14, loss = 0.03066799\n",
      "Iteration 15, loss = 0.03048743\n",
      "Iteration 16, loss = 0.03031558\n",
      "Iteration 17, loss = 0.03015257\n",
      "Iteration 18, loss = 0.02999877\n",
      "Iteration 19, loss = 0.02985547\n",
      "Iteration 20, loss = 0.02972298\n",
      "Iteration 21, loss = 0.02960000\n",
      "Iteration 22, loss = 0.02948376\n",
      "Iteration 23, loss = 0.02937462\n",
      "Iteration 24, loss = 0.02927155\n",
      "Iteration 25, loss = 0.02917087\n",
      "Iteration 26, loss = 0.02907062\n",
      "Iteration 27, loss = 0.02894793\n",
      "Iteration 28, loss = 0.02881111\n",
      "Iteration 29, loss = 0.02866720\n",
      "Iteration 30, loss = 0.02853343\n",
      "Iteration 31, loss = 0.02841692\n",
      "Iteration 32, loss = 0.02831526\n",
      "Iteration 33, loss = 0.02822650\n",
      "Iteration 34, loss = 0.02814345\n",
      "Iteration 35, loss = 0.02806729\n",
      "Iteration 36, loss = 0.02799546\n",
      "Iteration 37, loss = 0.02792965\n",
      "Iteration 38, loss = 0.02786502\n",
      "Iteration 39, loss = 0.02780208\n",
      "Iteration 40, loss = 0.02774324\n",
      "Iteration 41, loss = 0.02768612\n",
      "Iteration 42, loss = 0.02763027\n",
      "Iteration 43, loss = 0.02757452\n",
      "Training loss did not improve more than tol=0.000100 for 10 consecutive epochs. Stopping.\n",
      "Actual number of parameters: 328998\n"
     ]
    }
   ],
   "execution_count": 5
  },
  {
   "metadata": {
    "ExecuteTime": {
     "end_time": "2025-01-06T16:25:39.466828Z",
     "start_time": "2025-01-06T16:25:39.152391Z"
    }
   },
   "cell_type": "code",
   "source": [
    "_, _, X_train, _, X_test, _ = mnist_utils.from_dataset(digits_input_reconstruction)\n",
    "\n",
    "print(f'Loss X_train: {model_utils.mse_loss(autoencoder_model_predict, X_train, X_train)}')\n",
    "print(f'Loss X_test: {model_utils.mse_loss(autoencoder_model_predict, X_test, X_test)}')\n",
    "\n",
    "random_test_indices = np.random.choice(X_test.shape[0], 5, replace=False)\n",
    "print(f'Random test indices: {random_test_indices}')\n",
    "\n",
    "original = X_test[random_test_indices]\n",
    "mnist_utils.plot_images(original, image_size=image_size, cmap='gray')\n",
    "\n",
    "restored = autoencoder_model_predict(original)\n",
    "mnist_utils.plot_images(restored, image_size=image_size, cmap='gray')"
   ],
   "id": "6db3fd53e71af75f",
   "outputs": [
    {
     "name": "stdout",
     "output_type": "stream",
     "text": [
      "Loss X_train: 0.028660748153924942\n",
      "Loss X_test: 0.028676113113760948\n",
      "Random test indices: [ 1556  5221  8246 10046  4017]\n"
     ]
    },
    {
     "data": {
      "text/plain": [
       "<Figure size 640x480 with 5 Axes>"
      ],
      "image/png": "[encoded data removed]"
     },
     "metadata": {},
     "output_type": "display_data"
    },
    {
     "data": {
      "text/plain": [
       "<Figure size 640x480 with 5 Axes>"
      ],
      "image/png": "[encoded data removed]"
     },
     "metadata": {},
     "output_type": "display_data"
    }
   ],
   "execution_count": 6
  }
 ],
 "metadata": {
  "kernelspec": {
   "name": "python3",
   "language": "python",
   "display_name": "Python 3 (ipykernel)"
  }
 },
 "nbformat": 4,
 "nbformat_minor": 5
}
